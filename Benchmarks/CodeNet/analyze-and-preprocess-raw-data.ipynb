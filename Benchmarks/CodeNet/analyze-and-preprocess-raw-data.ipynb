{
 "cells": [
  {
   "cell_type": "markdown",
   "metadata": {},
   "source": [
    "# Imports\n"
   ]
  },
  {
   "cell_type": "code",
   "execution_count": 1,
   "metadata": {},
   "outputs": [
    {
     "name": "stderr",
     "output_type": "stream",
     "text": [
      "/home/siddharthsa/.local/lib/python3.8/site-packages/scipy/__init__.py:146: UserWarning: A NumPy version >=1.16.5 and <1.23.0 is required for this version of SciPy (detected version 1.24.4\n",
      "  warnings.warn(f\"A NumPy version >={np_minversion} and <{np_maxversion}\"\n"
     ]
    },
    {
     "name": "stdout",
     "output_type": "stream",
     "text": [
      "1.8.1+cu101\n",
      "10.1\n",
      "3.8.18\n",
      "1.7.0\n"
     ]
    }
   ],
   "source": [
    "import os\n",
    "import sys\n",
    "import copy\n",
    "import glob\n",
    "import tqdm\n",
    "from torch import nn\n",
    "import random\n",
    "import torch\n",
    "import platform\n",
    "from typing import Callable, List, Optional, Dict\n",
    "import numpy as np\n",
    "import scipy.sparse as sp\n",
    "\n",
    "import warnings\n",
    "warnings.filterwarnings('ignore')\n",
    "\n",
    "from transformers import AutoTokenizer, AutoModel\n",
    "\n",
    "import torch_geometric\n",
    "from torch_geometric.data import (\n",
    "    Data,\n",
    "    InMemoryDataset,\n",
    "    Batch\n",
    "    )\n",
    "import torch_geometric.datasets as datasets\n",
    "import torch_geometric.transforms as transforms\n",
    "from torch_geometric.data import Data\n",
    "from torch.nn import Linear\n",
    "import torch.nn.functional as F\n",
    "from torch_geometric.nn import GCNConv, GATConv\n",
    "from torch_geometric.nn import global_mean_pool\n",
    "\n",
    "# Helper function for visualization.\n",
    "%matplotlib inline\n",
    "import networkx as nx\n",
    "import matplotlib.pyplot as plt\n",
    "from torch_geometric.utils import to_networkx\n",
    "\n",
    "import umap\n",
    "from sklearn.manifold import TSNE\n",
    "from sklearn.cluster import KMeans\n",
    "from sklearn.cluster import Birch\n",
    "from sklearn.cluster import SpectralClustering\n",
    "\n",
    "from sklearn.metrics import confusion_matrix, accuracy_score, f1_score, precision_score, recall_score, silhouette_score\n",
    "\n",
    "# To ensure determinism\n",
    "seed = 1234\n",
    "def seed_everything(seed: int):\n",
    "    random.seed(seed)\n",
    "    np.random.seed(seed)\n",
    "    torch.manual_seed(seed)\n",
    "    torch.cuda.manual_seed_all(seed)\n",
    "    os.environ['PYTHONHASHSEED'] = str(seed)\n",
    "    torch.backends.cudnn.deterministic = True\n",
    "seed_everything(seed)\n",
    "\n",
    "# Check versions\n",
    "print(torch.__version__)\n",
    "print(torch.version.cuda)\n",
    "print(platform.python_version())\n",
    "print(torch_geometric.__version__)"
   ]
  },
  {
   "cell_type": "markdown",
   "metadata": {},
   "source": [
    "# Filter Java Code Snippets"
   ]
  },
  {
   "cell_type": "markdown",
   "metadata": {},
   "source": [
    "## Get all accepted Java submissions"
   ]
  },
  {
   "cell_type": "code",
   "execution_count": 8,
   "metadata": {},
   "outputs": [
    {
     "name": "stderr",
     "output_type": "stream",
     "text": [
      "100%|██████████| 4053/4053 [10:24<00:00,  6.49it/s]\n"
     ]
    }
   ],
   "source": [
    "import pandas as pd\n",
    "import glob\n",
    "import os\n",
    "\n",
    "metadata_folder = \"/home/siddharthsa/cs21mtech12001-Tamal/API-Misuse-Prediction/PDG-gen/Repository/Benchmarks/CodeNet/metadata\"\n",
    "dataset_folder = \"/home/siddharthsa/cs21mtech12001-Tamal/API-Misuse-Prediction/PDG-gen/Repository/Benchmarks/CodeNet/Java250_data\"\n",
    "metadata_files = glob.glob(os.path.join(metadata_folder, '*.csv'))\n",
    "allowed_status = [\"Accepted\"]\n",
    "\n",
    "accepted_submissions = {}\n",
    "for file_loc in tqdm.tqdm(metadata_files):\n",
    "    problem_id = file_loc[file_loc.rindex(\"/\") + 1: -4]\n",
    "    metadata_file = pd.read_csv(file_loc)\n",
    "    accepted_submissions[problem_id] = []\n",
    "    for index, row in metadata_file.iterrows():\n",
    "        if row[\"filename_ext\"] == \"java\" and row[\"status\"] in allowed_status:\n",
    "            code_file_location = f\"{dataset_folder}/{row['problem_id']}/{row['submission_id']}.java\"\n",
    "            if os.path.isfile(code_file_location):\n",
    "                accepted_submissions[problem_id].append(code_file_location)\n",
    "            else:\n",
    "                continue\n",
    "                print(code_file_location)\n",
    "                print(\"code file doesn't exist!!\")"
   ]
  },
  {
   "cell_type": "markdown",
   "metadata": {},
   "source": [
    "## Filter the code-snippets that have only one class and one method"
   ]
  },
  {
   "cell_type": "code",
   "execution_count": 10,
   "metadata": {},
   "outputs": [
    {
     "name": "stderr",
     "output_type": "stream",
     "text": [
      "100%|██████████| 4053/4053 [04:10<00:00, 16.17it/s]\n"
     ]
    }
   ],
   "source": [
    "import javalang\n",
    "from javalang.parser import JavaSyntaxError\n",
    "\n",
    "def count_methods(java_file_loc):\n",
    "  \n",
    "  with open(java_file_loc, 'r') as f:\n",
    "    java_source = f.read()\n",
    "\n",
    "  java_class = javalang.parse.parse(java_source)\n",
    "  method_count = sum(1 for _, node in java_class.filter(javalang.tree.MethodDeclaration))\n",
    "  class_count = sum(1 for _, node in java_class.filter(javalang.tree.TypeDeclaration))\n",
    "  return class_count, method_count\n",
    "\n",
    "\n",
    "accepted_submissions_filtered = {}\n",
    "for pid in tqdm.tqdm(accepted_submissions):\n",
    "    accepted_submissions_filtered[pid] = []\n",
    "    for path in accepted_submissions[pid]:\n",
    "        try:\n",
    "            #print(path)\n",
    "            class_count, method_count = count_methods(path)\n",
    "            if class_count == 1 and method_count == 1:\n",
    "                accepted_submissions_filtered[pid].append(path) \n",
    "        except (AssertionError, JavaSyntaxError, javalang.tokenizer.LexerError):\n",
    "            pass"
   ]
  },
  {
   "cell_type": "markdown",
   "metadata": {},
   "source": [
    "## Get top 5 projects by submission"
   ]
  },
  {
   "cell_type": "code",
   "execution_count": 11,
   "metadata": {},
   "outputs": [
    {
     "name": "stdout",
     "output_type": "stream",
     "text": [
      "[('p02381', 280), ('p02419', 280), ('p02396', 277), ('p02400', 277), ('p02399', 277), ('p02415', 275), ('p02421', 275), ('p02416', 274), ('p02407', 272), ('p02417', 271)]\n",
      "Total accepted java submissions in top 10 problems:  2758\n"
     ]
    }
   ],
   "source": [
    "accepted_submissions_count = {}\n",
    "for pid in accepted_submissions_filtered:\n",
    "    accepted_submissions_count[pid] = len(accepted_submissions_filtered[pid])\n",
    "    \n",
    "accepted_submissions_count_sorted = sorted(accepted_submissions_count.items(), key=lambda x:x[1], reverse = True)\n",
    "print(accepted_submissions_count_sorted[:10])\n",
    "\n",
    "sum_ = 0\n",
    "for pid in accepted_submissions_count_sorted[:10]:\n",
    "    sum_ += pid[1]\n",
    "print(\"Total accepted java submissions in top 10 problems: \", sum_)"
   ]
  },
  {
   "cell_type": "markdown",
   "metadata": {},
   "source": [
    "## Copy the filtered Java files"
   ]
  },
  {
   "cell_type": "code",
   "execution_count": 12,
   "metadata": {},
   "outputs": [
    {
     "name": "stderr",
     "output_type": "stream",
     "text": [
      "100%|██████████| 4053/4053 [00:03<00:00, 1027.39it/s]\n"
     ]
    }
   ],
   "source": [
    "import shutil\n",
    "\n",
    "output_folder_location = \"/home/siddharthsa/cs21mtech12001-Tamal/API-Misuse-Prediction/PDG-gen/Repository/Benchmarks/CodeNet/Java250_accepted_sols_1_method\"\n",
    "\n",
    "for pid, count in tqdm.tqdm(accepted_submissions_count_sorted):\n",
    "    if count < 20:\n",
    "        continue\n",
    "    output_project_folder_location = output_folder_location + \"/\" + pid\n",
    "    if not os.path.exists(output_project_folder_location):\n",
    "        os.mkdir(output_project_folder_location)\n",
    "    \n",
    "    for original_file in accepted_submissions_filtered[pid]:\n",
    "        file_name = original_file[original_file.rindex(\"/\") + 1:]\n",
    "        shutil.copyfile(original_file, output_project_folder_location + \"/\" + file_name)\n",
    "    "
   ]
  },
  {
   "cell_type": "markdown",
   "metadata": {},
   "source": [
    "# Preprocess for PDG Generation"
   ]
  },
  {
   "cell_type": "code",
   "execution_count": 4,
   "metadata": {},
   "outputs": [],
   "source": [
    "import sys\n",
    "import json\n",
    "import pandas as pd\n",
    "import random\n",
    "import os\n",
    "from pathlib import Path\n",
    "import re\n",
    "import glob\n",
    "import tqdm\n",
    "import pyparsing\n",
    "\n",
    "# projects_to_consider = ['p02388', 'p02389', 'p02391', 'p02393', 'p02396']\n",
    "# projects_to_consider = ['p02381', 'p02419', 'p02396', 'p02400', 'p02399', 'p02415', 'p02421', 'p02416', 'p02407', 'p02417']\n",
    "input_folder_location = \"/home/siddharthsa/cs21mtech12001-Tamal/API-Misuse-Prediction/PDG-gen/Repository/Benchmarks/CodeNet/Java250_accepted_sols_1_method\"\n",
    "\n",
    "project_folders = [name for name in os.listdir(input_folder_location) if os.path.isdir(os.path.join(input_folder_location, name))]\n",
    "projects_to_consider = project_folders"
   ]
  },
  {
   "cell_type": "code",
   "execution_count": 5,
   "metadata": {},
   "outputs": [
    {
     "name": "stderr",
     "output_type": "stream",
     "text": [
      "100%|██████████| 249/249 [00:00<00:00, 2357.11it/s]"
     ]
    },
    {
     "name": "stdout",
     "output_type": "stream",
     "text": [
      "[('p02713', 21), ('p00005', 92), ('p02831', 96), ('p02264', 98), ('p02257', 99), ('p03160', 102), ('p02255', 104), ('p03161', 110), ('p02268', 111), ('p02819', 130)]\n",
      "Total accepted java submissions in top 10 problems:  963\n"
     ]
    },
    {
     "name": "stderr",
     "output_type": "stream",
     "text": [
      "\n"
     ]
    }
   ],
   "source": [
    "input_folder_location = \"/home/siddharthsa/cs21mtech12001-Tamal/API-Misuse-Prediction/PDG-gen/Repository/Benchmarks/CodeNet/Java250_accepted_sols_1_method\"\n",
    "\n",
    "accepted_submissions_filtered = {}\n",
    "for project in tqdm.tqdm(projects_to_consider):\n",
    "    input_project_folder = input_folder_location + \"/\" + project\n",
    "    java_files = glob.glob(os.path.join(input_project_folder, '*.java'))\n",
    "    accepted_submissions_filtered[project] = java_files\n",
    "    \n",
    "accepted_submissions_count = {}\n",
    "for pid in accepted_submissions_filtered:\n",
    "    accepted_submissions_count[pid] = len(accepted_submissions_filtered[pid])\n",
    "    \n",
    "accepted_submissions_count_sorted = sorted(accepted_submissions_count.items(), key=lambda x:x[1], reverse = False)\n",
    "print(accepted_submissions_count_sorted[:10])\n",
    "\n",
    "sum_ = 0\n",
    "for pid in accepted_submissions_count_sorted[:10]:\n",
    "    sum_ += pid[1]\n",
    "print(\"Total accepted java submissions in top 10 problems: \", sum_)"
   ]
  },
  {
   "cell_type": "code",
   "execution_count": 9,
   "metadata": {},
   "outputs": [
    {
     "name": "stderr",
     "output_type": "stream",
     "text": [
      "  0%|          | 0/100 [00:00<?, ?it/s]"
     ]
    },
    {
     "name": "stdout",
     "output_type": "stream",
     "text": [
      "p02381 : 280\n"
     ]
    },
    {
     "name": "stderr",
     "output_type": "stream",
     "text": [
      "  1%|          | 1/100 [00:03<06:10,  3.74s/it]"
     ]
    },
    {
     "name": "stdout",
     "output_type": "stream",
     "text": [
      "p02419 : 280\n"
     ]
    },
    {
     "name": "stderr",
     "output_type": "stream",
     "text": [
      "  2%|▏         | 2/100 [00:07<05:43,  3.50s/it]"
     ]
    },
    {
     "name": "stdout",
     "output_type": "stream",
     "text": [
      "p02396 : 277\n"
     ]
    },
    {
     "name": "stderr",
     "output_type": "stream",
     "text": [
      "  3%|▎         | 3/100 [00:09<05:03,  3.13s/it]"
     ]
    },
    {
     "name": "stdout",
     "output_type": "stream",
     "text": [
      "p02400 : 277\n"
     ]
    },
    {
     "name": "stderr",
     "output_type": "stream",
     "text": [
      "  4%|▍         | 4/100 [00:12<04:38,  2.90s/it]"
     ]
    },
    {
     "name": "stdout",
     "output_type": "stream",
     "text": [
      "p02399 : 277\n"
     ]
    },
    {
     "name": "stderr",
     "output_type": "stream",
     "text": [
      "  5%|▌         | 5/100 [00:15<04:36,  2.91s/it]"
     ]
    },
    {
     "name": "stdout",
     "output_type": "stream",
     "text": [
      "p02415 : 275\n"
     ]
    },
    {
     "name": "stderr",
     "output_type": "stream",
     "text": [
      "  6%|▌         | 6/100 [00:18<04:50,  3.09s/it]"
     ]
    },
    {
     "name": "stdout",
     "output_type": "stream",
     "text": [
      "p02421 : 275\n"
     ]
    },
    {
     "name": "stderr",
     "output_type": "stream",
     "text": [
      "  7%|▋         | 7/100 [00:22<05:12,  3.36s/it]"
     ]
    },
    {
     "name": "stdout",
     "output_type": "stream",
     "text": [
      "p02416 : 274\n"
     ]
    },
    {
     "name": "stderr",
     "output_type": "stream",
     "text": [
      "  8%|▊         | 8/100 [00:25<05:01,  3.27s/it]"
     ]
    },
    {
     "name": "stdout",
     "output_type": "stream",
     "text": [
      "p02407 : 272\n"
     ]
    },
    {
     "name": "stderr",
     "output_type": "stream",
     "text": [
      "  9%|▉         | 9/100 [00:28<04:51,  3.20s/it]"
     ]
    },
    {
     "name": "stdout",
     "output_type": "stream",
     "text": [
      "p02417 : 271\n"
     ]
    },
    {
     "name": "stderr",
     "output_type": "stream",
     "text": [
      " 10%|█         | 10/100 [00:33<05:21,  3.58s/it]"
     ]
    },
    {
     "name": "stdout",
     "output_type": "stream",
     "text": [
      "p02418 : 270\n"
     ]
    },
    {
     "name": "stderr",
     "output_type": "stream",
     "text": [
      " 11%|█         | 11/100 [00:36<05:08,  3.47s/it]"
     ]
    },
    {
     "name": "stdout",
     "output_type": "stream",
     "text": [
      "p03493 : 268\n"
     ]
    },
    {
     "name": "stderr",
     "output_type": "stream",
     "text": [
      " 12%|█▏        | 12/100 [00:38<04:24,  3.01s/it]"
     ]
    },
    {
     "name": "stdout",
     "output_type": "stream",
     "text": [
      "p02420 : 268\n"
     ]
    },
    {
     "name": "stderr",
     "output_type": "stream",
     "text": [
      " 13%|█▎        | 13/100 [00:42<04:40,  3.22s/it]"
     ]
    },
    {
     "name": "stdout",
     "output_type": "stream",
     "text": [
      "p02397 : 268\n"
     ]
    },
    {
     "name": "stderr",
     "output_type": "stream",
     "text": [
      " 14%|█▍        | 14/100 [00:45<04:32,  3.17s/it]"
     ]
    },
    {
     "name": "stdout",
     "output_type": "stream",
     "text": [
      "p02410 : 266\n"
     ]
    },
    {
     "name": "stderr",
     "output_type": "stream",
     "text": [
      " 15%|█▌        | 15/100 [00:49<05:00,  3.53s/it]"
     ]
    },
    {
     "name": "stdout",
     "output_type": "stream",
     "text": [
      "p02402 : 265\n"
     ]
    },
    {
     "name": "stderr",
     "output_type": "stream",
     "text": [
      " 16%|█▌        | 16/100 [00:53<04:58,  3.56s/it]"
     ]
    },
    {
     "name": "stdout",
     "output_type": "stream",
     "text": [
      "p02413 : 265\n"
     ]
    },
    {
     "name": "stderr",
     "output_type": "stream",
     "text": [
      " 17%|█▋        | 17/100 [00:58<05:30,  3.99s/it]"
     ]
    },
    {
     "name": "stdout",
     "output_type": "stream",
     "text": [
      "p00001 : 264\n"
     ]
    },
    {
     "name": "stderr",
     "output_type": "stream",
     "text": [
      " 18%|█▊        | 18/100 [01:01<05:04,  3.72s/it]"
     ]
    },
    {
     "name": "stdout",
     "output_type": "stream",
     "text": [
      "p02401 : 262\n"
     ]
    },
    {
     "name": "stderr",
     "output_type": "stream",
     "text": [
      " 19%|█▉        | 19/100 [01:05<05:14,  3.88s/it]"
     ]
    },
    {
     "name": "stdout",
     "output_type": "stream",
     "text": [
      "p02414 : 260\n"
     ]
    },
    {
     "name": "stderr",
     "output_type": "stream",
     "text": [
      " 20%|██        | 20/100 [01:10<05:49,  4.37s/it]"
     ]
    },
    {
     "name": "stdout",
     "output_type": "stream",
     "text": [
      "p02398 : 258\n"
     ]
    },
    {
     "name": "stderr",
     "output_type": "stream",
     "text": [
      " 21%|██        | 21/100 [01:13<05:09,  3.92s/it]"
     ]
    },
    {
     "name": "stdout",
     "output_type": "stream",
     "text": [
      "p00006 : 258\n"
     ]
    },
    {
     "name": "stderr",
     "output_type": "stream",
     "text": [
      " 22%|██▏       | 22/100 [01:15<04:25,  3.41s/it]"
     ]
    },
    {
     "name": "stdout",
     "output_type": "stream",
     "text": [
      "p02405 : 257\n"
     ]
    },
    {
     "name": "stderr",
     "output_type": "stream",
     "text": [
      " 23%|██▎       | 23/100 [01:19<04:33,  3.56s/it]"
     ]
    },
    {
     "name": "stdout",
     "output_type": "stream",
     "text": [
      "p04043 : 254\n"
     ]
    },
    {
     "name": "stderr",
     "output_type": "stream",
     "text": [
      " 24%|██▍       | 24/100 [01:22<04:07,  3.25s/it]"
     ]
    },
    {
     "name": "stdout",
     "output_type": "stream",
     "text": [
      "p02403 : 254\n"
     ]
    },
    {
     "name": "stderr",
     "output_type": "stream",
     "text": [
      " 25%|██▌       | 25/100 [01:25<04:04,  3.26s/it]"
     ]
    },
    {
     "name": "stdout",
     "output_type": "stream",
     "text": [
      "p02412 : 253\n"
     ]
    },
    {
     "name": "stderr",
     "output_type": "stream",
     "text": [
      " 26%|██▌       | 26/100 [01:29<04:04,  3.30s/it]"
     ]
    },
    {
     "name": "stdout",
     "output_type": "stream",
     "text": [
      "p02404 : 253\n"
     ]
    },
    {
     "name": "stderr",
     "output_type": "stream",
     "text": [
      " 27%|██▋       | 27/100 [01:32<04:09,  3.42s/it]"
     ]
    },
    {
     "name": "stdout",
     "output_type": "stream",
     "text": [
      "p02411 : 252\n"
     ]
    },
    {
     "name": "stderr",
     "output_type": "stream",
     "text": [
      " 28%|██▊       | 28/100 [01:37<04:36,  3.85s/it]"
     ]
    },
    {
     "name": "stdout",
     "output_type": "stream",
     "text": [
      "p02394 : 251\n"
     ]
    },
    {
     "name": "stderr",
     "output_type": "stream",
     "text": [
      " 29%|██▉       | 29/100 [01:41<04:23,  3.71s/it]"
     ]
    },
    {
     "name": "stdout",
     "output_type": "stream",
     "text": [
      "p02390 : 250\n"
     ]
    },
    {
     "name": "stderr",
     "output_type": "stream",
     "text": [
      " 30%|███       | 30/100 [01:43<03:47,  3.24s/it]"
     ]
    },
    {
     "name": "stdout",
     "output_type": "stream",
     "text": [
      "p02389 : 250\n"
     ]
    },
    {
     "name": "stderr",
     "output_type": "stream",
     "text": [
      " 31%|███       | 31/100 [01:45<03:25,  2.99s/it]"
     ]
    },
    {
     "name": "stdout",
     "output_type": "stream",
     "text": [
      "p03109 : 250\n"
     ]
    },
    {
     "name": "stderr",
     "output_type": "stream",
     "text": [
      " 32%|███▏      | 32/100 [01:48<03:14,  2.86s/it]"
     ]
    },
    {
     "name": "stdout",
     "output_type": "stream",
     "text": [
      "p02946 : 250\n"
     ]
    },
    {
     "name": "stderr",
     "output_type": "stream",
     "text": [
      " 33%|███▎      | 33/100 [01:50<02:55,  2.62s/it]"
     ]
    },
    {
     "name": "stdout",
     "output_type": "stream",
     "text": [
      "p03470 : 250\n"
     ]
    },
    {
     "name": "stderr",
     "output_type": "stream",
     "text": [
      " 34%|███▍      | 34/100 [01:52<02:55,  2.66s/it]"
     ]
    },
    {
     "name": "stdout",
     "output_type": "stream",
     "text": [
      "p02393 : 250\n"
     ]
    },
    {
     "name": "stderr",
     "output_type": "stream",
     "text": [
      " 35%|███▌      | 35/100 [01:56<03:04,  2.85s/it]"
     ]
    },
    {
     "name": "stdout",
     "output_type": "stream",
     "text": [
      "p02408 : 249\n"
     ]
    },
    {
     "name": "stderr",
     "output_type": "stream",
     "text": [
      " 36%|███▌      | 36/100 [02:01<03:54,  3.66s/it]"
     ]
    },
    {
     "name": "stdout",
     "output_type": "stream",
     "text": [
      "p03315 : 249\n"
     ]
    },
    {
     "name": "stderr",
     "output_type": "stream",
     "text": [
      " 37%|███▋      | 37/100 [02:03<03:19,  3.16s/it]"
     ]
    },
    {
     "name": "stdout",
     "output_type": "stream",
     "text": [
      "p02724 : 248\n"
     ]
    },
    {
     "name": "stderr",
     "output_type": "stream",
     "text": [
      " 38%|███▊      | 38/100 [02:05<02:50,  2.75s/it]"
     ]
    },
    {
     "name": "stdout",
     "output_type": "stream",
     "text": [
      "p03814 : 248\n"
     ]
    },
    {
     "name": "stderr",
     "output_type": "stream",
     "text": [
      " 39%|███▉      | 39/100 [02:08<02:43,  2.67s/it]"
     ]
    },
    {
     "name": "stdout",
     "output_type": "stream",
     "text": [
      "p02718 : 248\n"
     ]
    },
    {
     "name": "stderr",
     "output_type": "stream",
     "text": [
      " 40%|████      | 40/100 [02:11<02:48,  2.82s/it]"
     ]
    },
    {
     "name": "stdout",
     "output_type": "stream",
     "text": [
      "p02897 : 248\n"
     ]
    },
    {
     "name": "stderr",
     "output_type": "stream",
     "text": [
      " 41%|████      | 41/100 [02:13<02:30,  2.55s/it]"
     ]
    },
    {
     "name": "stdout",
     "output_type": "stream",
     "text": [
      "p03075 : 248\n"
     ]
    },
    {
     "name": "stderr",
     "output_type": "stream",
     "text": [
      " 42%|████▏     | 42/100 [02:15<02:31,  2.62s/it]"
     ]
    },
    {
     "name": "stdout",
     "output_type": "stream",
     "text": [
      "p00002 : 248\n"
     ]
    },
    {
     "name": "stderr",
     "output_type": "stream",
     "text": [
      " 43%|████▎     | 43/100 [02:18<02:31,  2.66s/it]"
     ]
    },
    {
     "name": "stdout",
     "output_type": "stream",
     "text": [
      "p02880 : 247\n"
     ]
    },
    {
     "name": "stderr",
     "output_type": "stream",
     "text": [
      " 44%|████▍     | 44/100 [02:20<02:20,  2.51s/it]"
     ]
    },
    {
     "name": "stdout",
     "output_type": "stream",
     "text": [
      "p02706 : 246\n"
     ]
    },
    {
     "name": "stderr",
     "output_type": "stream",
     "text": [
      " 45%|████▌     | 45/100 [02:23<02:17,  2.50s/it]"
     ]
    },
    {
     "name": "stdout",
     "output_type": "stream",
     "text": [
      "p02711 : 246\n"
     ]
    },
    {
     "name": "stderr",
     "output_type": "stream",
     "text": [
      " 46%|████▌     | 46/100 [02:25<02:06,  2.34s/it]"
     ]
    },
    {
     "name": "stdout",
     "output_type": "stream",
     "text": [
      "p03370 : 246\n"
     ]
    },
    {
     "name": "stderr",
     "output_type": "stream",
     "text": [
      " 47%|████▋     | 47/100 [02:27<02:09,  2.44s/it]"
     ]
    },
    {
     "name": "stdout",
     "output_type": "stream",
     "text": [
      "p02409 : 246\n"
     ]
    },
    {
     "name": "stderr",
     "output_type": "stream",
     "text": [
      " 48%|████▊     | 48/100 [02:33<02:47,  3.22s/it]"
     ]
    },
    {
     "name": "stdout",
     "output_type": "stream",
     "text": [
      "p02388 : 246\n"
     ]
    },
    {
     "name": "stderr",
     "output_type": "stream",
     "text": [
      " 49%|████▉     | 49/100 [02:34<02:25,  2.85s/it]"
     ]
    },
    {
     "name": "stdout",
     "output_type": "stream",
     "text": [
      "p02688 : 246\n"
     ]
    },
    {
     "name": "stderr",
     "output_type": "stream",
     "text": [
      " 50%|█████     | 50/100 [02:37<02:24,  2.88s/it]"
     ]
    },
    {
     "name": "stdout",
     "output_type": "stream",
     "text": [
      "p03242 : 245\n"
     ]
    },
    {
     "name": "stderr",
     "output_type": "stream",
     "text": [
      " 51%|█████     | 51/100 [02:40<02:12,  2.70s/it]"
     ]
    },
    {
     "name": "stdout",
     "output_type": "stream",
     "text": [
      "p02694 : 245\n"
     ]
    },
    {
     "name": "stderr",
     "output_type": "stream",
     "text": [
      " 52%|█████▏    | 52/100 [02:42<01:57,  2.44s/it]"
     ]
    },
    {
     "name": "stdout",
     "output_type": "stream",
     "text": [
      "p03072 : 245\n"
     ]
    },
    {
     "name": "stderr",
     "output_type": "stream",
     "text": [
      " 53%|█████▎    | 53/100 [02:44<01:55,  2.46s/it]"
     ]
    },
    {
     "name": "stdout",
     "output_type": "stream",
     "text": [
      "p03469 : 245\n"
     ]
    },
    {
     "name": "stderr",
     "output_type": "stream",
     "text": [
      " 54%|█████▍    | 54/100 [02:46<01:41,  2.22s/it]"
     ]
    },
    {
     "name": "stdout",
     "output_type": "stream",
     "text": [
      "p02700 : 245\n"
     ]
    },
    {
     "name": "stderr",
     "output_type": "stream",
     "text": [
      " 55%|█████▌    | 55/100 [02:48<01:43,  2.30s/it]"
     ]
    },
    {
     "name": "stdout",
     "output_type": "stream",
     "text": [
      "p03000 : 244\n"
     ]
    },
    {
     "name": "stderr",
     "output_type": "stream",
     "text": [
      " 56%|█████▌    | 56/100 [02:51<01:45,  2.40s/it]"
     ]
    },
    {
     "name": "stdout",
     "output_type": "stream",
     "text": [
      "p02754 : 244\n"
     ]
    },
    {
     "name": "stderr",
     "output_type": "stream",
     "text": [
      " 57%|█████▋    | 57/100 [02:53<01:42,  2.37s/it]"
     ]
    },
    {
     "name": "stdout",
     "output_type": "stream",
     "text": [
      "p02681 : 243\n"
     ]
    },
    {
     "name": "stderr",
     "output_type": "stream",
     "text": [
      " 58%|█████▊    | 58/100 [02:56<01:39,  2.37s/it]"
     ]
    },
    {
     "name": "stdout",
     "output_type": "stream",
     "text": [
      "p02717 : 241\n"
     ]
    },
    {
     "name": "stderr",
     "output_type": "stream",
     "text": [
      " 59%|█████▉    | 59/100 [02:57<01:31,  2.24s/it]"
     ]
    },
    {
     "name": "stdout",
     "output_type": "stream",
     "text": [
      "p03456 : 241\n"
     ]
    },
    {
     "name": "stderr",
     "output_type": "stream",
     "text": [
      " 60%|██████    | 60/100 [03:00<01:31,  2.28s/it]"
     ]
    },
    {
     "name": "stdout",
     "output_type": "stream",
     "text": [
      "p02640 : 241\n"
     ]
    },
    {
     "name": "stderr",
     "output_type": "stream",
     "text": [
      " 61%|██████    | 61/100 [03:02<01:27,  2.25s/it]"
     ]
    },
    {
     "name": "stdout",
     "output_type": "stream",
     "text": [
      "p03136 : 241\n"
     ]
    },
    {
     "name": "stderr",
     "output_type": "stream",
     "text": [
      " 62%|██████▏   | 62/100 [03:05<01:29,  2.36s/it]"
     ]
    },
    {
     "name": "stdout",
     "output_type": "stream",
     "text": [
      "p02676 : 240\n"
     ]
    },
    {
     "name": "stderr",
     "output_type": "stream",
     "text": [
      " 63%|██████▎   | 63/100 [03:07<01:26,  2.35s/it]"
     ]
    },
    {
     "name": "stdout",
     "output_type": "stream",
     "text": [
      "p03071 : 240\n"
     ]
    },
    {
     "name": "stderr",
     "output_type": "stream",
     "text": [
      " 64%|██████▍   | 64/100 [03:09<01:20,  2.23s/it]"
     ]
    },
    {
     "name": "stdout",
     "output_type": "stream",
     "text": [
      "p02391 : 240\n"
     ]
    },
    {
     "name": "stderr",
     "output_type": "stream",
     "text": [
      " 65%|██████▌   | 65/100 [03:12<01:22,  2.36s/it]"
     ]
    },
    {
     "name": "stdout",
     "output_type": "stream",
     "text": [
      "p02772 : 239\n"
     ]
    },
    {
     "name": "stderr",
     "output_type": "stream",
     "text": [
      " 66%|██████▌   | 66/100 [03:14<01:21,  2.39s/it]"
     ]
    },
    {
     "name": "stdout",
     "output_type": "stream",
     "text": [
      "p02921 : 239\n"
     ]
    },
    {
     "name": "stderr",
     "output_type": "stream",
     "text": [
      " 67%|██████▋   | 67/100 [03:16<01:18,  2.37s/it]"
     ]
    },
    {
     "name": "stdout",
     "output_type": "stream",
     "text": [
      "p02682 : 239\n"
     ]
    },
    {
     "name": "stderr",
     "output_type": "stream",
     "text": [
      " 68%|██████▊   | 68/100 [03:19<01:17,  2.41s/it]"
     ]
    },
    {
     "name": "stdout",
     "output_type": "stream",
     "text": [
      "p02922 : 239\n"
     ]
    },
    {
     "name": "stderr",
     "output_type": "stream",
     "text": [
      " 69%|██████▉   | 69/100 [03:21<01:09,  2.26s/it]"
     ]
    },
    {
     "name": "stdout",
     "output_type": "stream",
     "text": [
      "p02783 : 239\n"
     ]
    },
    {
     "name": "stderr",
     "output_type": "stream",
     "text": [
      " 70%|███████   | 70/100 [03:23<01:04,  2.16s/it]"
     ]
    },
    {
     "name": "stdout",
     "output_type": "stream",
     "text": [
      "p02613 : 238\n"
     ]
    },
    {
     "name": "stderr",
     "output_type": "stream",
     "text": [
      " 71%|███████   | 71/100 [03:26<01:13,  2.52s/it]"
     ]
    },
    {
     "name": "stdout",
     "output_type": "stream",
     "text": [
      "p02627 : 238\n"
     ]
    },
    {
     "name": "stderr",
     "output_type": "stream",
     "text": [
      " 72%|███████▏  | 72/100 [03:28<01:07,  2.40s/it]"
     ]
    },
    {
     "name": "stdout",
     "output_type": "stream",
     "text": [
      "p02779 : 238\n"
     ]
    },
    {
     "name": "stderr",
     "output_type": "stream",
     "text": [
      " 73%|███████▎  | 73/100 [03:31<01:06,  2.45s/it]"
     ]
    },
    {
     "name": "stdout",
     "output_type": "stream",
     "text": [
      "p02910 : 238\n"
     ]
    },
    {
     "name": "stderr",
     "output_type": "stream",
     "text": [
      " 74%|███████▍  | 74/100 [03:34<01:07,  2.61s/it]"
     ]
    },
    {
     "name": "stdout",
     "output_type": "stream",
     "text": [
      "p02705 : 238\n"
     ]
    },
    {
     "name": "stderr",
     "output_type": "stream",
     "text": [
      " 75%|███████▌  | 75/100 [03:35<00:56,  2.26s/it]"
     ]
    },
    {
     "name": "stdout",
     "output_type": "stream",
     "text": [
      "p03378 : 238\n"
     ]
    },
    {
     "name": "stderr",
     "output_type": "stream",
     "text": [
      " 76%|███████▌  | 76/100 [03:38<00:58,  2.46s/it]"
     ]
    },
    {
     "name": "stdout",
     "output_type": "stream",
     "text": [
      "p02987 : 238\n"
     ]
    },
    {
     "name": "stderr",
     "output_type": "stream",
     "text": [
      " 77%|███████▋  | 77/100 [03:41<00:59,  2.61s/it]"
     ]
    },
    {
     "name": "stdout",
     "output_type": "stream",
     "text": [
      "p02860 : 238\n"
     ]
    },
    {
     "name": "stderr",
     "output_type": "stream",
     "text": [
      " 78%|███████▊  | 78/100 [03:44<00:57,  2.60s/it]"
     ]
    },
    {
     "name": "stdout",
     "output_type": "stream",
     "text": [
      "p03434 : 237\n"
     ]
    },
    {
     "name": "stderr",
     "output_type": "stream",
     "text": [
      " 79%|███████▉  | 79/100 [03:46<00:56,  2.67s/it]"
     ]
    },
    {
     "name": "stdout",
     "output_type": "stream",
     "text": [
      "p02993 : 237\n"
     ]
    },
    {
     "name": "stderr",
     "output_type": "stream",
     "text": [
      " 80%|████████  | 80/100 [03:49<00:51,  2.58s/it]"
     ]
    },
    {
     "name": "stdout",
     "output_type": "stream",
     "text": [
      "p02923 : 237\n"
     ]
    },
    {
     "name": "stderr",
     "output_type": "stream",
     "text": [
      " 81%|████████  | 81/100 [03:51<00:49,  2.59s/it]"
     ]
    },
    {
     "name": "stdout",
     "output_type": "stream",
     "text": [
      "p02899 : 237\n"
     ]
    },
    {
     "name": "stderr",
     "output_type": "stream",
     "text": [
      " 82%|████████▏ | 82/100 [03:54<00:45,  2.55s/it]"
     ]
    },
    {
     "name": "stdout",
     "output_type": "stream",
     "text": [
      "p02945 : 237\n"
     ]
    },
    {
     "name": "stderr",
     "output_type": "stream",
     "text": [
      " 83%|████████▎ | 83/100 [03:56<00:40,  2.40s/it]"
     ]
    },
    {
     "name": "stdout",
     "output_type": "stream",
     "text": [
      "p03220 : 236\n"
     ]
    },
    {
     "name": "stderr",
     "output_type": "stream",
     "text": [
      " 84%|████████▍ | 84/100 [03:59<00:40,  2.56s/it]"
     ]
    },
    {
     "name": "stdout",
     "output_type": "stream",
     "text": [
      "p02677 : 236\n"
     ]
    },
    {
     "name": "stderr",
     "output_type": "stream",
     "text": [
      " 85%|████████▌ | 85/100 [04:02<00:40,  2.73s/it]"
     ]
    },
    {
     "name": "stdout",
     "output_type": "stream",
     "text": [
      "p03455 : 236\n"
     ]
    },
    {
     "name": "stderr",
     "output_type": "stream",
     "text": [
      " 86%|████████▌ | 86/100 [04:04<00:35,  2.54s/it]"
     ]
    },
    {
     "name": "stdout",
     "output_type": "stream",
     "text": [
      "p03059 : 236\n"
     ]
    },
    {
     "name": "stderr",
     "output_type": "stream",
     "text": [
      " 87%|████████▋ | 87/100 [04:06<00:30,  2.33s/it]"
     ]
    },
    {
     "name": "stdout",
     "output_type": "stream",
     "text": [
      "p02911 : 236\n"
     ]
    },
    {
     "name": "stderr",
     "output_type": "stream",
     "text": [
      " 88%|████████▊ | 88/100 [04:09<00:30,  2.56s/it]"
     ]
    },
    {
     "name": "stdout",
     "output_type": "stream",
     "text": [
      "p02771 : 235\n"
     ]
    },
    {
     "name": "stderr",
     "output_type": "stream",
     "text": [
      " 89%|████████▉ | 89/100 [04:11<00:27,  2.50s/it]"
     ]
    },
    {
     "name": "stdout",
     "output_type": "stream",
     "text": [
      "p03448 : 235\n"
     ]
    },
    {
     "name": "stderr",
     "output_type": "stream",
     "text": [
      " 90%|█████████ | 90/100 [04:14<00:26,  2.63s/it]"
     ]
    },
    {
     "name": "stdout",
     "output_type": "stream",
     "text": [
      "p02848 : 235\n"
     ]
    },
    {
     "name": "stderr",
     "output_type": "stream",
     "text": [
      " 91%|█████████ | 91/100 [04:17<00:23,  2.62s/it]"
     ]
    },
    {
     "name": "stdout",
     "output_type": "stream",
     "text": [
      "p02953 : 235\n"
     ]
    },
    {
     "name": "stderr",
     "output_type": "stream",
     "text": [
      " 92%|█████████▏| 92/100 [04:20<00:21,  2.71s/it]"
     ]
    },
    {
     "name": "stdout",
     "output_type": "stream",
     "text": [
      "p02701 : 235\n"
     ]
    },
    {
     "name": "stderr",
     "output_type": "stream",
     "text": [
      " 93%|█████████▎| 93/100 [04:22<00:18,  2.60s/it]"
     ]
    },
    {
     "name": "stdout",
     "output_type": "stream",
     "text": [
      "p02406 : 235\n"
     ]
    },
    {
     "name": "stderr",
     "output_type": "stream",
     "text": [
      " 94%|█████████▍| 94/100 [04:25<00:15,  2.64s/it]"
     ]
    },
    {
     "name": "stdout",
     "output_type": "stream",
     "text": [
      "p04030 : 235\n"
     ]
    },
    {
     "name": "stderr",
     "output_type": "stream",
     "text": [
      " 95%|█████████▌| 95/100 [04:28<00:13,  2.65s/it]"
     ]
    },
    {
     "name": "stdout",
     "output_type": "stream",
     "text": [
      "p03239 : 235\n"
     ]
    },
    {
     "name": "stderr",
     "output_type": "stream",
     "text": [
      " 96%|█████████▌| 96/100 [04:31<00:10,  2.73s/it]"
     ]
    },
    {
     "name": "stdout",
     "output_type": "stream",
     "text": [
      "p02766 : 235\n"
     ]
    },
    {
     "name": "stderr",
     "output_type": "stream",
     "text": [
      " 97%|█████████▋| 97/100 [04:32<00:07,  2.44s/it]"
     ]
    },
    {
     "name": "stdout",
     "output_type": "stream",
     "text": [
      "p04044 : 234\n"
     ]
    },
    {
     "name": "stderr",
     "output_type": "stream",
     "text": [
      " 98%|█████████▊| 98/100 [04:35<00:04,  2.45s/it]"
     ]
    },
    {
     "name": "stdout",
     "output_type": "stream",
     "text": [
      "p02675 : 234\n"
     ]
    },
    {
     "name": "stderr",
     "output_type": "stream",
     "text": [
      " 99%|█████████▉| 99/100 [04:37<00:02,  2.52s/it]"
     ]
    },
    {
     "name": "stdout",
     "output_type": "stream",
     "text": [
      "p02707 : 234\n"
     ]
    },
    {
     "name": "stderr",
     "output_type": "stream",
     "text": [
      "100%|██████████| 100/100 [04:40<00:00,  2.80s/it]\n"
     ]
    }
   ],
   "source": [
    "import sys\n",
    "import json\n",
    "import pandas as pd\n",
    "import random\n",
    "import os\n",
    "from pathlib import Path\n",
    "import re\n",
    "import glob\n",
    "import tqdm\n",
    "import pyparsing\n",
    "\n",
    "input_folder_location = \"/home/siddharthsa/cs21mtech12001-Tamal/API-Misuse-Prediction/PDG-gen/Repository/Benchmarks/CodeNet/Java250_accepted_sols_1_method\"\n",
    "output_folder_location = \"/home/siddharthsa/cs21mtech12001-Tamal/API-Misuse-Prediction/PDG-gen/Repository/Benchmarks/CodeNet/processed_data_for_pdg_java250_100_class\"\n",
    "\n",
    "def copyFile(input_file_path, output_file_path):\n",
    "    \n",
    "    input_file = open(input_file_path, \"r\")\n",
    "    newfile = open(output_file_path, \"w+\")\n",
    "    \n",
    "    # Remove all comments\n",
    "    original_code = input_file.read()\n",
    "    commentFilter = pyparsing.javaStyleComment.suppress()\n",
    "    modified_code = commentFilter.transformString(original_code)\n",
    "\n",
    "    for line in modified_code.split(\"\\n\"):\n",
    "        line = line.replace('\\u00A0', \" \")\n",
    "        \n",
    "        # Skip empty lines, lines like @Test\n",
    "        if len(line.strip()) == 0 or line.strip().startswith(\"@\"):\n",
    "            continue\n",
    "        \n",
    "        # Remove import statements and packages\n",
    "        if line.startswith(\"import\") or line.startswith(\"package\") or line.strip().replace(\"\\n\", \"\").strip() == \"\":\n",
    "            continue\n",
    "        \n",
    "        # Add newline at the end\n",
    "        if not line.endswith(\"\\n\"):\n",
    "            line += \"\\n\"\n",
    "        newfile.write(line)\n",
    "    \n",
    "    newfile.close()\n",
    "    input_file.close()\n",
    "\n",
    "for project in tqdm.tqdm(projects_to_consider):\n",
    "    input_project_folder = input_folder_location + \"/\" + project\n",
    "    java_files = glob.glob(os.path.join(input_project_folder, '*.java'))\n",
    "    print(project, \":\", len(java_files))\n",
    "    \n",
    "    output_project_folder_location = output_folder_location + \"/\" + project\n",
    "    if not os.path.exists(output_project_folder_location):\n",
    "        os.mkdir(output_project_folder_location)\n",
    "        \n",
    "    for input_java_file_path in java_files:\n",
    "        file_name = input_java_file_path[input_java_file_path.rindex(\"/\") + 1:]\n",
    "        output_java_file_path = output_project_folder_location + \"/\" + file_name\n",
    "        copyFile(input_java_file_path, output_java_file_path)\n",
    "        "
   ]
  },
  {
   "cell_type": "markdown",
   "metadata": {},
   "source": [
    "# Get The PGDs"
   ]
  },
  {
   "cell_type": "markdown",
   "metadata": {},
   "source": [
    "# Postprocess After PDG Generation"
   ]
  },
  {
   "cell_type": "code",
   "execution_count": 2,
   "metadata": {},
   "outputs": [
    {
     "name": "stdout",
     "output_type": "stream",
     "text": [
      "{'p00001': 0, 'p00002': 1, 'p00006': 2, 'p02381': 3, 'p02388': 4, 'p02389': 5, 'p02390': 6, 'p02391': 7, 'p02393': 8, 'p02394': 9, 'p02396': 10, 'p02397': 11, 'p02398': 12, 'p02399': 13, 'p02400': 14, 'p02401': 15, 'p02402': 16, 'p02403': 17, 'p02404': 18, 'p02405': 19, 'p02406': 20, 'p02407': 21, 'p02408': 22, 'p02409': 23, 'p02410': 24, 'p02411': 25, 'p02412': 26, 'p02413': 27, 'p02414': 28, 'p02415': 29, 'p02416': 30, 'p02417': 31, 'p02418': 32, 'p02419': 33, 'p02420': 34, 'p02421': 35, 'p02613': 36, 'p02627': 37, 'p02640': 38, 'p02675': 39, 'p02676': 40, 'p02677': 41, 'p02681': 42, 'p02682': 43, 'p02688': 44, 'p02694': 45, 'p02700': 46, 'p02701': 47, 'p02705': 48, 'p02706': 49, 'p02707': 50, 'p02711': 51, 'p02717': 52, 'p02718': 53, 'p02724': 54, 'p02754': 55, 'p02766': 56, 'p02771': 57, 'p02772': 58, 'p02779': 59, 'p02783': 60, 'p02848': 61, 'p02860': 62, 'p02880': 63, 'p02897': 64, 'p02899': 65, 'p02910': 66, 'p02911': 67, 'p02921': 68, 'p02922': 69, 'p02923': 70, 'p02945': 71, 'p02946': 72, 'p02953': 73, 'p02987': 74, 'p02993': 75, 'p03000': 76, 'p03059': 77, 'p03071': 78, 'p03072': 79, 'p03075': 80, 'p03109': 81, 'p03136': 82, 'p03220': 83, 'p03239': 84, 'p03242': 85, 'p03315': 86, 'p03370': 87, 'p03378': 88, 'p03434': 89, 'p03448': 90, 'p03455': 91, 'p03456': 92, 'p03469': 93, 'p03470': 94, 'p03493': 95, 'p03814': 96, 'p04030': 97, 'p04043': 98, 'p04044': 99}\n"
     ]
    }
   ],
   "source": [
    "import os\n",
    "\n",
    "# projects_to_consider = ['p02388', 'p02389', 'p02391', 'p02393', 'p02396']\n",
    "# projects_to_consider = ['p02381', 'p02419', 'p02396', 'p02400', 'p02399', 'p02415', 'p02421', 'p02416', 'p02407', 'p02417']\n",
    "input_folder_location = \"/home/siddharthsa/cs21mtech12001-Tamal/API-Misuse-Prediction/PDG-gen/Repository/Benchmarks/CodeNet/pdg_data_java250_100_class\"\n",
    "\n",
    "project_folders = [name for name in os.listdir(input_folder_location) if os.path.isdir(os.path.join(input_folder_location, name))]\n",
    "projects_to_consider = {}\n",
    "class_id = 0\n",
    "for project in project_folders:\n",
    "    projects_to_consider[project] = class_id\n",
    "    class_id += 1\n",
    "\n",
    "print(projects_to_consider)"
   ]
  },
  {
   "cell_type": "code",
   "execution_count": 3,
   "metadata": {},
   "outputs": [
    {
     "name": "stderr",
     "output_type": "stream",
     "text": [
      "100%|██████████| 100/100 [00:00<00:00, 1236.21it/s]\n"
     ]
    },
    {
     "name": "stdout",
     "output_type": "stream",
     "text": [
      "\n",
      "Training, validation and test data size: 17329, 3676 and 3819\n",
      "\n",
      "Total dataset size:  24824\n",
      "\n",
      "Processing split:  train\n"
     ]
    },
    {
     "name": "stderr",
     "output_type": "stream",
     "text": [
      "100%|██████████| 17329/17329 [00:03<00:00, 5003.32it/s]\n"
     ]
    },
    {
     "name": "stdout",
     "output_type": "stream",
     "text": [
      "\n",
      "GOOD PDG DATA POINTS: 17159\n",
      "\n",
      "\n",
      "TOTAL PDG DATA POINTS: 17309\n",
      "\n",
      "\n",
      "TOTAL PRUNING ERROR: 0\n",
      "\n",
      "\n",
      "=================================================================\n",
      "\n",
      "\n",
      "Processing split:  valid\n"
     ]
    },
    {
     "name": "stderr",
     "output_type": "stream",
     "text": [
      "100%|██████████| 3676/3676 [00:00<00:00, 4919.01it/s]\n"
     ]
    },
    {
     "name": "stdout",
     "output_type": "stream",
     "text": [
      "\n",
      "GOOD PDG DATA POINTS: 3619\n",
      "\n",
      "\n",
      "TOTAL PDG DATA POINTS: 3670\n",
      "\n",
      "\n",
      "TOTAL PRUNING ERROR: 0\n",
      "\n",
      "\n",
      "=================================================================\n",
      "\n",
      "\n",
      "Processing split:  test\n"
     ]
    },
    {
     "name": "stderr",
     "output_type": "stream",
     "text": [
      "100%|██████████| 3819/3819 [00:00<00:00, 4842.53it/s]"
     ]
    },
    {
     "name": "stdout",
     "output_type": "stream",
     "text": [
      "\n",
      "GOOD PDG DATA POINTS: 3777\n",
      "\n",
      "\n",
      "TOTAL PDG DATA POINTS: 3815\n",
      "\n",
      "\n",
      "TOTAL PRUNING ERROR: 0\n",
      "\n",
      "\n",
      "=================================================================\n",
      "\n",
      "\n",
      "TOTAL GOOD PDG DATA POINTS IN DATASET: 24555\n",
      "\n",
      "\n",
      "TOTAL PDG DATA POINTS IN DATASET: 24794\n",
      "\n",
      "\n",
      "TOTAL PRUNING ERROR IN DATASET: 0\n",
      "\n",
      "\n",
      "DATASET STATISTICS: {'train': [17309, 17159, 0], 'valid': [3670, 3619, 0], 'test': [3815, 3777, 0]}\n",
      "\n"
     ]
    },
    {
     "name": "stderr",
     "output_type": "stream",
     "text": [
      "\n"
     ]
    }
   ],
   "source": [
    "import os\n",
    "import sys\n",
    "import glob\n",
    "import tqdm\n",
    "import random\n",
    "random.seed(1234)\n",
    "\n",
    "\"\"\" ALGORITHM\n",
    "\n",
    "a. Clean the raw edge info (eg. remove wrongly formatted edges, class edges etc.)\n",
    "b. Merge same code-lines into a single line/node\n",
    "e. Remove self-loops and duplicate edges\n",
    "\n",
    "\"\"\"\n",
    "\n",
    "PRUNING_ERROR_COUNT, GOOD_DATA_POINTS, TOTAL_DATA_POINTS = 0, 0, 0\n",
    "PRUNING_ERROR_COUNT_IN_DATASET, GOOD_DATA_POINTS_IN_DATASET, TOTAL_DATA_POINTS_IN_DATASET = 0, 0, 0\n",
    "DATASET_STATISTICS = {}\n",
    "\n",
    "def get_pruned_pdg(pdg_file, output_pdg_file):\n",
    "    \n",
    "    global PRUNING_ERROR_COUNT, GOOD_DATA_POINTS, TOTAL_DATA_POINTS\n",
    "    \n",
    "    # all_edges = [bytes(l, 'utf-8').decode('utf-8', 'ignore').strip()\n",
    "    #              for l in pdg_file.readlines()]\n",
    "    all_edges = [l.replace(\"\\n\", \"\").replace(\"\\r\", \"\").strip()\n",
    "                 for l in pdg_file.readlines()]\n",
    "\n",
    "    # Remove unnecesssary edges(\"Entry\" edge, wrongly formatted edges etc.)\n",
    "    all_edges = all_edges[1:]\n",
    "    all_edges = [edge for edge in all_edges if edge.find(\n",
    "        \"-->\") != -1 and edge.count(\"$$\") == 2]\n",
    "    all_edges = [edge for edge in all_edges if len(edge.split(\"-->\")) == 2 and\n",
    "                 len(edge.split(\"-->\")[0].split(\"$$\")) == 2 and\n",
    "                 len(edge.split(\"-->\")[1].split(\"$$\")) == 2]\n",
    "\n",
    "    # Remove self-loops and duplicate edges\n",
    "    all_edges = [edge for edge in all_edges if edge.split(\"-->\")[0].split(\"$$\")[0].strip() != edge.split(\"-->\")[1].split(\"$$\")[0].strip()]\n",
    "    all_edges = list(set(all_edges))\n",
    "        \n",
    "    if len(all_edges) >= 5:\n",
    "        GOOD_DATA_POINTS += 1\n",
    "\n",
    "    all_edges = [edge + \"\\n\" for edge in all_edges]\n",
    "    output_pdg_file.writelines(all_edges)\n",
    "    if len(all_edges) > 0:\n",
    "        TOTAL_DATA_POINTS += 1\n",
    "\n",
    "    return output_pdg_file, len(all_edges)\n",
    "\n",
    "def split_data(pdg_files):\n",
    "    random.shuffle(pdg_files)\n",
    "    train_split_size, valid_split_size, test_split_size =  int(len(pdg_files) *0.7), \\\n",
    "                                                           int(len(pdg_files) *0.15), \\\n",
    "                                                           int(len(pdg_files) *0.15)\n",
    "    training_data = pdg_files[:train_split_size]\n",
    "    validation_data = pdg_files[train_split_size: train_split_size + valid_split_size]\n",
    "    test_data = pdg_files[train_split_size + valid_split_size:]\n",
    "    return training_data, validation_data, test_data\n",
    "\n",
    "PDG_FOLDER_LOCATION = \"/home/siddharthsa/cs21mtech12001-Tamal/API-Misuse-Prediction/PDG-gen/Repository/Benchmarks/CodeNet/pdg_data_java250_100_class\"\n",
    "OUTPUT_FOLDER_LOCATION = \"/home/siddharthsa/cs21mtech12001-Tamal/API-Misuse-Prediction/PDG-gen/Repository/Benchmarks/CodeNet/processed_pdg_data_java250_100_class\"\n",
    "\n",
    "training_data, validation_data, test_data = [], [], []\n",
    "project_folders = glob.glob(os.path.join(PDG_FOLDER_LOCATION, '*'))\n",
    "pdg_files_list = []\n",
    "for project_folder in tqdm.tqdm(project_folders):\n",
    "    pdg_files = glob.glob(os.path.join(project_folder, '*.txt'))\n",
    "    s1, s2, s3 = split_data(pdg_files)\n",
    "    training_data.extend(s1)\n",
    "    validation_data.extend(s2)\n",
    "    test_data.extend(s3)\n",
    "    \n",
    "random.shuffle(training_data)\n",
    "random.shuffle(validation_data)\n",
    "random.shuffle(test_data)\n",
    "print(\"\\nTraining, validation and test data size: {}, {} and {}\".format(len(training_data), len(validation_data), len(test_data)))\n",
    "print(\"\\nTotal dataset size: \", len(training_data) + len(validation_data) + len(test_data))\n",
    "\n",
    "for split in [[\"train\", training_data], [\"valid\", validation_data], [\"test\", test_data]]:\n",
    "    print(\"\\nProcessing split: \", split[0])\n",
    "    OUTPUT_SPLIT_FOLDER_LOCATION = OUTPUT_FOLDER_LOCATION + \"/\" + split[0]\n",
    "    if not os.path.exists(OUTPUT_SPLIT_FOLDER_LOCATION):\n",
    "        os.makedirs(OUTPUT_SPLIT_FOLDER_LOCATION)\n",
    "    for pdg_file in tqdm.tqdm(split[1]):\n",
    "        original_pdg_file = open(pdg_file, 'r')\n",
    "        project_id = pdg_file[pdg_file.rindex(\"/\")+1:].split(\"_\")[2]\n",
    "        output_file_location = OUTPUT_SPLIT_FOLDER_LOCATION + \"/\" + pdg_file[pdg_file.rindex(\"/\")+1:-4] + \"_\" + str(projects_to_consider[project_id]) + \".txt\"\n",
    "        output_pdg_file = open(output_file_location, \"+w\")\n",
    "        try:\n",
    "            output_pdg_file, no_of_edges = get_pruned_pdg(original_pdg_file, output_pdg_file)\n",
    "        except Exception as e:\n",
    "            PRUNING_ERROR_COUNT += 1\n",
    "            print(\"\\nERROR WHILE PRUNING PDG\\n\")\n",
    "            print(\"\\nFile: {}\\n\".format(pdg_file))\n",
    "            print(\"\\nERROR: {}\\n\".format(e))\n",
    "            original_pdg_file.close()\n",
    "            output_pdg_file.close()\n",
    "            os.remove(output_file_location)\n",
    "        else:\n",
    "            output_pdg_file.close()\n",
    "            if no_of_edges == 0:\n",
    "                os.remove(output_file_location)\n",
    "            original_pdg_file.close()\n",
    "            \n",
    "    print(\"\\nGOOD PDG DATA POINTS: {}\\n\".format(GOOD_DATA_POINTS))\n",
    "    print(\"\\nTOTAL PDG DATA POINTS: {}\\n\".format(TOTAL_DATA_POINTS))\n",
    "    print(\"\\nTOTAL PRUNING ERROR: {}\\n\".format(PRUNING_ERROR_COUNT))\n",
    "    print(\"\\n=================================================================\\n\")\n",
    "    PRUNING_ERROR_COUNT_IN_DATASET += PRUNING_ERROR_COUNT\n",
    "    GOOD_DATA_POINTS_IN_DATASET += GOOD_DATA_POINTS\n",
    "    TOTAL_DATA_POINTS_IN_DATASET += TOTAL_DATA_POINTS\n",
    "    DATASET_STATISTICS[split[0]] = [TOTAL_DATA_POINTS, GOOD_DATA_POINTS, PRUNING_ERROR_COUNT]\n",
    "    PRUNING_ERROR_COUNT, GOOD_DATA_POINTS, TOTAL_DATA_POINTS = 0, 0, 0\n",
    "    \n",
    "print(\"\\nTOTAL GOOD PDG DATA POINTS IN DATASET: {}\\n\".format(GOOD_DATA_POINTS_IN_DATASET))\n",
    "print(\"\\nTOTAL PDG DATA POINTS IN DATASET: {}\\n\".format(TOTAL_DATA_POINTS_IN_DATASET))\n",
    "print(\"\\nTOTAL PRUNING ERROR IN DATASET: {}\\n\".format(PRUNING_ERROR_COUNT_IN_DATASET))\n",
    "print(\"\\nDATASET STATISTICS: {}\\n\".format(DATASET_STATISTICS))"
   ]
  }
 ],
 "metadata": {
  "kernelspec": {
   "display_name": "MuGNN",
   "language": "python",
   "name": "python3"
  },
  "language_info": {
   "codemirror_mode": {
    "name": "ipython",
    "version": 3
   },
   "file_extension": ".py",
   "mimetype": "text/x-python",
   "name": "python",
   "nbconvert_exporter": "python",
   "pygments_lexer": "ipython3",
   "version": "3.8.18"
  }
 },
 "nbformat": 4,
 "nbformat_minor": 2
}
