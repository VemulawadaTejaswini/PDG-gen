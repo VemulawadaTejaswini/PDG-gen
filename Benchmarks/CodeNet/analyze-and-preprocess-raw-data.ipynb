{
 "cells": [
  {
   "cell_type": "markdown",
   "metadata": {},
   "source": [
    "# Imports\n"
   ]
  },
  {
   "cell_type": "code",
   "execution_count": 1,
   "metadata": {},
   "outputs": [
    {
     "name": "stderr",
     "output_type": "stream",
     "text": [
      "/home/siddharthsa/.local/lib/python3.8/site-packages/scipy/__init__.py:146: UserWarning: A NumPy version >=1.16.5 and <1.23.0 is required for this version of SciPy (detected version 1.24.4\n",
      "  warnings.warn(f\"A NumPy version >={np_minversion} and <{np_maxversion}\"\n"
     ]
    },
    {
     "name": "stdout",
     "output_type": "stream",
     "text": [
      "1.8.1+cu101\n",
      "10.1\n",
      "3.8.18\n",
      "1.7.0\n"
     ]
    }
   ],
   "source": [
    "import os\n",
    "import sys\n",
    "import copy\n",
    "import glob\n",
    "import tqdm\n",
    "from torch import nn\n",
    "import random\n",
    "import torch\n",
    "import platform\n",
    "from typing import Callable, List, Optional, Dict\n",
    "import numpy as np\n",
    "import scipy.sparse as sp\n",
    "\n",
    "import warnings\n",
    "warnings.filterwarnings('ignore')\n",
    "\n",
    "from transformers import AutoTokenizer, AutoModel\n",
    "\n",
    "import torch_geometric\n",
    "from torch_geometric.data import (\n",
    "    Data,\n",
    "    InMemoryDataset,\n",
    "    Batch\n",
    "    )\n",
    "import torch_geometric.datasets as datasets\n",
    "import torch_geometric.transforms as transforms\n",
    "from torch_geometric.data import Data\n",
    "from torch.nn import Linear\n",
    "import torch.nn.functional as F\n",
    "from torch_geometric.nn import GCNConv, GATConv\n",
    "from torch_geometric.nn import global_mean_pool\n",
    "\n",
    "# Helper function for visualization.\n",
    "%matplotlib inline\n",
    "import networkx as nx\n",
    "import matplotlib.pyplot as plt\n",
    "from torch_geometric.utils import to_networkx\n",
    "\n",
    "import umap\n",
    "from sklearn.manifold import TSNE\n",
    "from sklearn.cluster import KMeans\n",
    "from sklearn.cluster import Birch\n",
    "from sklearn.cluster import SpectralClustering\n",
    "\n",
    "from sklearn.metrics import confusion_matrix, accuracy_score, f1_score, precision_score, recall_score, silhouette_score\n",
    "\n",
    "# To ensure determinism\n",
    "seed = 1234\n",
    "def seed_everything(seed: int):\n",
    "    random.seed(seed)\n",
    "    np.random.seed(seed)\n",
    "    torch.manual_seed(seed)\n",
    "    torch.cuda.manual_seed_all(seed)\n",
    "    os.environ['PYTHONHASHSEED'] = str(seed)\n",
    "    torch.backends.cudnn.deterministic = True\n",
    "seed_everything(seed)\n",
    "\n",
    "# Check versions\n",
    "print(torch.__version__)\n",
    "print(torch.version.cuda)\n",
    "print(platform.python_version())\n",
    "print(torch_geometric.__version__)"
   ]
  },
  {
   "cell_type": "markdown",
   "metadata": {},
   "source": [
    "# Filter Java Code Snippets"
   ]
  },
  {
   "cell_type": "markdown",
   "metadata": {},
   "source": [
    "## Get all accepted Java submissions"
   ]
  },
  {
   "cell_type": "code",
   "execution_count": 4,
   "metadata": {},
   "outputs": [
    {
     "name": "stderr",
     "output_type": "stream",
     "text": [
      "  0%|          | 0/4053 [00:00<?, ?it/s]"
     ]
    },
    {
     "name": "stderr",
     "output_type": "stream",
     "text": [
      "100%|██████████| 4053/4053 [11:02<00:00,  6.11it/s]\n"
     ]
    }
   ],
   "source": [
    "import pandas as pd\n",
    "import glob\n",
    "import os\n",
    "\n",
    "metadata_folder = \"/home/siddharthsa/cs21mtech12001-Tamal/API-Misuse-Prediction/PDG-gen/Repository/Benchmarks/CodeNet/metadata\"\n",
    "metadata_files = glob.glob(os.path.join(metadata_folder, '*.csv'))\n",
    "allowed_status = [\"Accepted\"]\n",
    "\n",
    "accepted_submissions = {}\n",
    "for file_loc in tqdm.tqdm(metadata_files):\n",
    "    problem_id = file_loc[file_loc.rindex(\"/\") + 1: -4]\n",
    "    metadata_file = pd.read_csv(file_loc)\n",
    "    accepted_submissions[problem_id] = []\n",
    "    for index, row in metadata_file.iterrows():\n",
    "        if row[\"filename_ext\"] == \"java\" and row[\"status\"] in allowed_status:\n",
    "            code_file_location = f\"/home/siddharthsa/cs21mtech12001-Tamal/API-Misuse-Prediction/PDG-gen/Repository/Benchmarks/CodeNet/data/{row['problem_id']}/Java/{row['submission_id']}.java\"\n",
    "            if os.path.isfile(code_file_location):\n",
    "                accepted_submissions[problem_id].append(code_file_location)\n",
    "            else:\n",
    "                # pass\n",
    "                print(code_file_location)\n",
    "                print(\"code file doesn't exist!!\")"
   ]
  },
  {
   "cell_type": "markdown",
   "metadata": {},
   "source": [
    "## Filter the code-snippets that have only one class and one method"
   ]
  },
  {
   "cell_type": "code",
   "execution_count": 61,
   "metadata": {},
   "outputs": [
    {
     "name": "stderr",
     "output_type": "stream",
     "text": [
      "100%|██████████| 4053/4053 [51:22<00:00,  1.31it/s]  \n"
     ]
    }
   ],
   "source": [
    "import javalang\n",
    "from javalang.parser import JavaSyntaxError\n",
    "\n",
    "def count_methods(java_file_loc):\n",
    "  \n",
    "  with open(java_file_loc, 'r') as f:\n",
    "    java_source = f.read()\n",
    "\n",
    "  java_class = javalang.parse.parse(java_source)\n",
    "  method_count = sum(1 for _, node in java_class.filter(javalang.tree.MethodDeclaration))\n",
    "  class_count = sum(1 for _, node in java_class.filter(javalang.tree.TypeDeclaration))\n",
    "  return class_count, method_count\n",
    "\n",
    "\n",
    "accepted_submissions_filtered = {}\n",
    "for pid in tqdm.tqdm(accepted_submissions):\n",
    "    accepted_submissions_filtered[pid] = []\n",
    "    for path in accepted_submissions[pid]:\n",
    "        try:\n",
    "            #print(path)\n",
    "            class_count, method_count = count_methods(path)\n",
    "            if class_count == 1 and method_count == 1:\n",
    "                accepted_submissions_filtered[pid].append(path) \n",
    "        except (AssertionError, JavaSyntaxError, javalang.tokenizer.LexerError):\n",
    "            pass"
   ]
  },
  {
   "cell_type": "markdown",
   "metadata": {},
   "source": [
    "## Get top 5 projects by submission"
   ]
  },
  {
   "cell_type": "code",
   "execution_count": 69,
   "metadata": {},
   "outputs": [
    {
     "name": "stdout",
     "output_type": "stream",
     "text": [
      "[('p02388', 2155), ('p02389', 1688), ('p02391', 1434), ('p02393', 1281), ('p02396', 1239), ('p02390', 1233), ('p02392', 1119), ('p00000', 1040), ('p02400', 993), ('p02403', 920)]\n",
      "Total accepted java submissions in top 10 problems:  13102\n"
     ]
    }
   ],
   "source": [
    "accepted_submissions_count = {}\n",
    "for pid in accepted_submissions_filtered:\n",
    "    accepted_submissions_count[pid] = len(accepted_submissions_filtered[pid])\n",
    "    \n",
    "accepted_submissions_count_sorted = sorted(accepted_submissions_count.items(), key=lambda x:x[1], reverse = True)\n",
    "print(accepted_submissions_count_sorted[:10])\n",
    "\n",
    "sum_ = 0\n",
    "for pid in accepted_submissions_count_sorted[:10]:\n",
    "    sum_ += pid[1]\n",
    "print(\"Total accepted java submissions in top 10 problems: \", sum_)"
   ]
  },
  {
   "cell_type": "markdown",
   "metadata": {},
   "source": [
    "## Copy the filtered Java files"
   ]
  },
  {
   "cell_type": "code",
   "execution_count": 70,
   "metadata": {},
   "outputs": [
    {
     "name": "stderr",
     "output_type": "stream",
     "text": [
      "100%|██████████| 4053/4053 [00:15<00:00, 265.87it/s]\n"
     ]
    }
   ],
   "source": [
    "import shutil\n",
    "\n",
    "output_folder_location = \"/home/siddharthsa/cs21mtech12001-Tamal/API-Misuse-Prediction/PDG-gen/Repository/Benchmarks/CodeNet/accepted_java_sols_1_method\"\n",
    "\n",
    "for pid, count in tqdm.tqdm(accepted_submissions_count_sorted):\n",
    "    if count < 20:\n",
    "        continue\n",
    "    output_project_folder_location = output_folder_location + \"/\" + pid\n",
    "    if not os.path.exists(output_project_folder_location):\n",
    "        os.mkdir(output_project_folder_location)\n",
    "    \n",
    "    for original_file in accepted_submissions_filtered[pid]:\n",
    "        file_name = original_file[original_file.rindex(\"/\") + 1:]\n",
    "        shutil.copyfile(original_file, output_project_folder_location + \"/\" + file_name)\n",
    "    "
   ]
  },
  {
   "cell_type": "markdown",
   "metadata": {},
   "source": [
    "# Preprocess for PDG Generation"
   ]
  },
  {
   "cell_type": "code",
   "execution_count": 6,
   "metadata": {},
   "outputs": [
    {
     "name": "stderr",
     "output_type": "stream",
     "text": [
      "100%|██████████| 5/5 [00:22<00:00,  4.51s/it]\n"
     ]
    }
   ],
   "source": [
    "import sys\n",
    "import json\n",
    "import pandas as pd\n",
    "import random\n",
    "import os\n",
    "from pathlib import Path\n",
    "import re\n",
    "import glob\n",
    "import tqdm\n",
    "import pyparsing\n",
    "\n",
    "input_folder_location = \"/home/siddharthsa/cs21mtech12001-Tamal/API-Misuse-Prediction/PDG-gen/Repository/Benchmarks/CodeNet/accepted_java_sols_1_method\"\n",
    "output_folder_location = \"/home/siddharthsa/cs21mtech12001-Tamal/API-Misuse-Prediction/PDG-gen/Repository/Benchmarks/CodeNet/processed_data_for_pdg\"\n",
    "\n",
    "projects_to_consider = ['p02388', 'p02389', 'p02391', 'p02393', 'p02396']\n",
    "\n",
    "def copyFile(input_file_path, output_file_path):\n",
    "    \n",
    "    input_file = open(input_file_path, \"r\")\n",
    "    newfile = open(output_file_path, \"w+\")\n",
    "    \n",
    "    # Remove all comments\n",
    "    original_code = input_file.read()\n",
    "    commentFilter = pyparsing.javaStyleComment.suppress()\n",
    "    modified_code = commentFilter.transformString(original_code)\n",
    "\n",
    "    for line in modified_code.split(\"\\n\"):\n",
    "        line = line.replace('\\u00A0', \" \")\n",
    "        \n",
    "        # Skip empty lines, lines like @Test\n",
    "        if len(line.strip()) == 0 or line.strip().startswith(\"@\"):\n",
    "            continue\n",
    "        \n",
    "        # Remove import statements and packages\n",
    "        if line.startswith(\"import\") or line.startswith(\"package\") or line.strip().replace(\"\\n\", \"\").strip() == \"\":\n",
    "            continue\n",
    "        \n",
    "        # Add newline at the end\n",
    "        if not line.endswith(\"\\n\"):\n",
    "            line += \"\\n\"\n",
    "        newfile.write(line)\n",
    "    \n",
    "    newfile.close()\n",
    "    input_file.close()\n",
    "\n",
    "for project in tqdm.tqdm(projects_to_consider):\n",
    "    input_project_folder = input_folder_location + \"/\" + project\n",
    "    java_files = glob.glob(os.path.join(input_project_folder, '*.java'))\n",
    "    \n",
    "    output_project_folder_location = output_folder_location + \"/\" + project\n",
    "    if not os.path.exists(output_project_folder_location):\n",
    "        os.mkdir(output_project_folder_location)\n",
    "        \n",
    "    for input_java_file_path in java_files:\n",
    "        file_name = input_java_file_path[input_java_file_path.rindex(\"/\") + 1:]\n",
    "        output_java_file_path = output_project_folder_location + \"/\" + file_name\n",
    "        copyFile(input_java_file_path, output_java_file_path)\n",
    "        "
   ]
  },
  {
   "cell_type": "markdown",
   "metadata": {},
   "source": [
    "# Get The PGDs"
   ]
  },
  {
   "cell_type": "markdown",
   "metadata": {},
   "source": [
    "# Postprocess After PDG Generation"
   ]
  },
  {
   "cell_type": "code",
   "execution_count": null,
   "metadata": {},
   "outputs": [],
   "source": []
  }
 ],
 "metadata": {
  "kernelspec": {
   "display_name": "MuGNN",
   "language": "python",
   "name": "python3"
  },
  "language_info": {
   "codemirror_mode": {
    "name": "ipython",
    "version": 3
   },
   "file_extension": ".py",
   "mimetype": "text/x-python",
   "name": "python",
   "nbconvert_exporter": "python",
   "pygments_lexer": "ipython3",
   "version": "3.8.18"
  }
 },
 "nbformat": 4,
 "nbformat_minor": 2
}
