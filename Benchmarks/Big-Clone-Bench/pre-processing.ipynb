{
 "cells": [
  {
   "cell_type": "markdown",
   "metadata": {},
   "source": [
    "# Convert Jsonl to Java files"
   ]
  },
  {
   "cell_type": "code",
   "execution_count": 7,
   "metadata": {},
   "outputs": [
    {
     "name": "stderr",
     "output_type": "stream",
     "text": [
      "  0%|          | 0/9126 [00:00<?, ?it/s]"
     ]
    },
    {
     "name": "stderr",
     "output_type": "stream",
     "text": [
      "100%|██████████| 9126/9126 [00:02<00:00, 3875.08it/s]\n"
     ]
    }
   ],
   "source": [
    "import json\n",
    "import tqdm\n",
    "import pyparsing\n",
    "\n",
    "def process_the_code_and_save(code, id, output_folder_location):\n",
    "    \n",
    "    # Remove all comments\n",
    "    commentFilter = pyparsing.javaStyleComment.suppress()\n",
    "    #code = commentFilter.transformString(code)\n",
    "    \n",
    "    output_file = open(output_folder_location + \"/\" + id + \".java\", \"+w\")\n",
    "    code_lines = code.split(\"\\n\")\n",
    "    output_file.write(\"public class dummy {\\n\")\n",
    "    \n",
    "    for line in code_lines:\n",
    "        line = line.replace('\\u00A0', \" \")\n",
    "        \n",
    "        # Skip empty lines, lines like @Test\n",
    "        if len(line.strip()) == 0 or line.strip().startswith(\"@\"):\n",
    "            continue\n",
    "        \n",
    "        # Add newline at the end\n",
    "        if not line.endswith(\"\\n\"):\n",
    "            line += \"\\n\"\n",
    "        output_file.write(line)\n",
    "    \n",
    "    output_file.write(\"}\\n\")\n",
    "    output_file.close()\n",
    "\n",
    "OUTPUT_FOLDER_LOCATION = \"/home/siddharthsa/cs21mtech12001-Tamal/API-Misuse-Prediction/PDG-gen/Repository/Benchmarks/Big-Clone-Bench/java_files\"\n",
    "\n",
    "with open('/home/siddharthsa/cs21mtech12001-Tamal/API-Misuse-Prediction/PDG-gen/Repository/Benchmarks/Big-Clone-Bench/raw_dataset/data.jsonl', 'r') as json_file:\n",
    "    json_list = list(json_file)\n",
    "\n",
    "for json_str in tqdm.tqdm(json_list):\n",
    "    result = json.loads(json_str)\n",
    "    process_the_code_and_save(result[\"func\"], result[\"idx\"], OUTPUT_FOLDER_LOCATION)"
   ]
  }
 ],
 "metadata": {
  "kernelspec": {
   "display_name": "MuGNN",
   "language": "python",
   "name": "python3"
  },
  "language_info": {
   "codemirror_mode": {
    "name": "ipython",
    "version": 3
   },
   "file_extension": ".py",
   "mimetype": "text/x-python",
   "name": "python",
   "nbconvert_exporter": "python",
   "pygments_lexer": "ipython3",
   "version": "3.8.18"
  }
 },
 "nbformat": 4,
 "nbformat_minor": 2
}
