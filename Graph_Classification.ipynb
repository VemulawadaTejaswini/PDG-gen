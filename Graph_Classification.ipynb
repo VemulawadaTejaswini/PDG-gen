{
 "cells": [
  {
   "cell_type": "markdown",
   "metadata": {},
   "source": [
    "## Imports"
   ]
  },
  {
   "cell_type": "code",
   "execution_count": 36,
   "metadata": {},
   "outputs": [
    {
     "name": "stdout",
     "output_type": "stream",
     "text": [
      "1.10.1+cu102\n",
      "10.2\n",
      "3.6.9\n"
     ]
    }
   ],
   "source": [
    "from torch import nn\n",
    "import torch\n",
    "import platform\n",
    "from typing import Callable, List, Optional, Dict\n",
    "import numpy as np\n",
    "import scipy.sparse as sp\n",
    "\n",
    "print(torch.__version__)\n",
    "print(torch.version.cuda)\n",
    "print(platform.python_version())\n",
    "\n",
    "from torch_geometric.data import (\n",
    "    HeteroData,\n",
    "    Data,\n",
    "    InMemoryDataset,\n",
    "    Batch\n",
    "    )\n",
    "from torch_geometric.data.storage import EdgeStorage\n",
    "import torch_geometric.datasets as datasets\n",
    "import torch_geometric.transforms as transforms\n",
    "from torch_geometric.data import Data\n",
    "from torch_geometric.loader import DataLoader"
   ]
  },
  {
   "cell_type": "markdown",
   "metadata": {},
   "source": [
    "## Dataset creation"
   ]
  },
  {
   "cell_type": "markdown",
   "metadata": {},
   "source": [
    "### Graph file locations"
   ]
  },
  {
   "cell_type": "code",
   "execution_count": 37,
   "metadata": {},
   "outputs": [],
   "source": [
    "folders = [\"/raid/cs21mtech12001/API-Misuse-Research/PDG-Gen/Repository/SurajAutomated/COMP_project/dotOutputs/execureQuery/*.txt\", \n",
    "           \"/raid/cs21mtech12001/API-Misuse-Research/PDG-Gen/Repository/SurajAutomated/COMP_project/dotOutputs/getTime/*.txt\",\n",
    "           \"/raid/cs21mtech12001/API-Misuse-Research/PDG-Gen/Repository/SurajAutomated/COMP_project/dotOutputs/openConnection/*.txt\",\n",
    "           \"/raid/cs21mtech12001/API-Misuse-Research/PDG-Gen/Repository/SurajAutomated/COMP_project/dotOutputs/readLine/*.txt\"]"
   ]
  },
  {
   "cell_type": "markdown",
   "metadata": {},
   "source": [
    "### Method to process raw graph data(in .txt format)"
   ]
  },
  {
   "cell_type": "code",
   "execution_count": 38,
   "metadata": {},
   "outputs": [],
   "source": [
    "def get_nodes_edges(inTextFile, add_reverse_edges = False):\n",
    "  # FD = 0, CD = 1\n",
    "  # to support the hetero data object as suggested by the documentation \n",
    "  nodes_dict = {}\n",
    "  edge_indices_CD = []\n",
    "  edge_indices_FD = []\n",
    "\n",
    "  #to support the Data object as used by the Entities dat object as used in RGAT source code\n",
    "  edge_indices = []\n",
    "  edge_type = []\n",
    "  \n",
    "  # nodes_dict is an index_map\n",
    "  node_count=0\n",
    "  with open(inTextFile) as fp:\n",
    "\n",
    "    Lines = fp.readlines()\n",
    "    for line in Lines:\n",
    "\n",
    "      N = line.split('-->')\n",
    "        \n",
    "      #t1 = N[0].split('$$')   \n",
    "      src = N[0].strip()   \n",
    "      if src not in nodes_dict.keys():\n",
    "        nodes_dict[src] = node_count\n",
    "        node_count+=1\n",
    "        \n",
    "      #t2 = N[1].split('$$')\n",
    "      right_idx = N[1].rfind('[')\n",
    "      dst = N[1][:right_idx].strip()\n",
    "      if dst not in nodes_dict.keys():\n",
    "        nodes_dict[dst] = node_count\n",
    "        node_count+=1\n",
    "\n",
    "      x = N[1].strip()[right_idx + 1 : -1].strip()\n",
    "      if(x == 'FD'):\n",
    "        y=0\n",
    "        edge_type.append(y)\n",
    "        edge_indices.append([nodes_dict[src], nodes_dict[dst]])\n",
    "        if add_reverse_edges:\n",
    "          edge_type.append(y)\n",
    "          edge_indices.append([nodes_dict[dst], nodes_dict[src]])\n",
    "        edge_indices_FD.append([nodes_dict[src], nodes_dict[dst]])\n",
    "      else: \n",
    "        y=1\n",
    "        edge_type.append(y)\n",
    "        edge_indices.append([nodes_dict[src], nodes_dict[dst]])\n",
    "        if add_reverse_edges:\n",
    "          edge_type.append(y)\n",
    "          edge_indices.append([nodes_dict[dst], nodes_dict[src]])\n",
    "        edge_indices_CD.append([nodes_dict[src], nodes_dict[dst]])\n",
    "     \n",
    "  return nodes_dict, edge_indices_FD, edge_indices_CD, edge_indices, edge_type"
   ]
  },
  {
   "cell_type": "code",
   "execution_count": 39,
   "metadata": {},
   "outputs": [
    {
     "data": {
      "text/plain": [
       "({'Line_3 $$ public void testSetMaxRowsValues()': 0,\n",
       "  'Line_4 $$ PreparedStatement ps = prepareStatement(\"values 0,1,2,3,4,5,6,7,8,9\", ResultSet.TYPE_SCROLL_INSENSITIVE, ResultSet.CONCUR_READ_ONLY)': 1,\n",
       "  'Line_7 $$ ps.setMaxRows(10)': 2,\n",
       "  'Line_8 $$ JDBC.assertDrainResults(ps.executeQuery(), 10)': 3,\n",
       "  'Line_8 $$ ps.executeQuery()': 4,\n",
       "  'Line_9 $$ ps.setMaxRows(2)': 5,\n",
       "  'Line_10 $$ JDBC.assertDrainResults(ps.executeQuery(), 2)': 6,\n",
       "  'Line_10 $$ ps.executeQuery()': 7},\n",
       " [[1, 2], [1, 4], [1, 5], [1, 7]],\n",
       " [[0, 1], [0, 2], [0, 3], [0, 5], [0, 6]],\n",
       " [[0, 1],\n",
       "  [1, 0],\n",
       "  [0, 2],\n",
       "  [2, 0],\n",
       "  [1, 2],\n",
       "  [2, 1],\n",
       "  [0, 3],\n",
       "  [3, 0],\n",
       "  [1, 4],\n",
       "  [4, 1],\n",
       "  [0, 5],\n",
       "  [5, 0],\n",
       "  [1, 5],\n",
       "  [5, 1],\n",
       "  [0, 6],\n",
       "  [6, 0],\n",
       "  [1, 7],\n",
       "  [7, 1]],\n",
       " [1, 1, 1, 1, 0, 0, 1, 1, 0, 0, 1, 1, 0, 0, 1, 1, 0, 0])"
      ]
     },
     "execution_count": 39,
     "metadata": {},
     "output_type": "execute_result"
    }
   ],
   "source": [
    "file = \"/raid/cs21mtech12001/API-Misuse-Research/PDG-Gen/Repository/SurajAutomated/COMP_project/dotOutputs/execureQuery/example5_graph_dump.txt\"\n",
    "\n",
    "get_nodes_edges(file, add_reverse_edges = True)"
   ]
  },
  {
   "cell_type": "markdown",
   "metadata": {},
   "source": [
    "### Method to get CodeBERT embedding for nodes"
   ]
  },
  {
   "cell_type": "code",
   "execution_count": 40,
   "metadata": {},
   "outputs": [],
   "source": [
    "from transformers import AutoTokenizer, AutoModel\n",
    "import torch\n",
    "\n",
    "tokenizer = AutoTokenizer.from_pretrained(\"microsoft/codebert-base\")\n",
    "model = AutoModel.from_pretrained(\"microsoft/codebert-base\")"
   ]
  },
  {
   "cell_type": "code",
   "execution_count": 41,
   "metadata": {},
   "outputs": [],
   "source": [
    "def get_node_embedding_from_codebert(nodes):\n",
    "    list_of_embeddings = []\n",
    "    for code_line in nodes.keys():\n",
    "        code_line = code_line.split(\"$$\")[1].strip()\n",
    "        code_tokens=tokenizer.tokenize(code_line)\n",
    "        tokens=[tokenizer.cls_token]+code_tokens+[tokenizer.eos_token]\n",
    "        tokens_ids=tokenizer.convert_tokens_to_ids(tokens)\n",
    "        context_embeddings=model(torch.tensor(tokens_ids)[None,:])\n",
    "        cls_token_embedding = context_embeddings.last_hidden_state[0,0,:]\n",
    "        list_of_embeddings.append(cls_token_embedding)\n",
    "    return torch.stack(list_of_embeddings)"
   ]
  },
  {
   "cell_type": "markdown",
   "metadata": {},
   "source": [
    "### Method to create data objects for GNN"
   ]
  },
  {
   "cell_type": "code",
   "execution_count": 42,
   "metadata": {},
   "outputs": [
    {
     "name": "stderr",
     "output_type": "stream",
     "text": [
      "/raid/cs21mtech12001/.local/lib/python3.6/site-packages/ipykernel_launcher.py:17: UserWarning: To copy construct from a tensor, it is recommended to use sourceTensor.clone().detach() or sourceTensor.clone().detach().requires_grad_(True), rather than torch.tensor(sourceTensor).\n"
     ]
    },
    {
     "name": "stdout",
     "output_type": "stream",
     "text": [
      "[Data(x=[8, 768], edge_index=[2, 18], edge_type=[18], y=[1], num_nodes=8), Data(x=[11, 768], edge_index=[2, 24], edge_type=[24], y=[1], num_nodes=11), Data(x=[7, 768], edge_index=[2, 14], edge_type=[14], y=[1], num_nodes=7), Data(x=[4, 768], edge_index=[2, 6], edge_type=[6], y=[1], num_nodes=4), Data(x=[4, 768], edge_index=[2, 8], edge_type=[8], y=[1], num_nodes=4), Data(x=[4, 768], edge_index=[2, 8], edge_type=[8], y=[1], num_nodes=4), Data(x=[7, 768], edge_index=[2, 12], edge_type=[12], y=[1], num_nodes=7), Data(x=[5, 768], edge_index=[2, 12], edge_type=[12], y=[1], num_nodes=5), Data(x=[10, 768], edge_index=[2, 26], edge_type=[26], y=[1], num_nodes=10), Data(x=[5, 768], edge_index=[2, 8], edge_type=[8], y=[1], num_nodes=5), Data(x=[8, 768], edge_index=[2, 22], edge_type=[22], y=[1], num_nodes=8), Data(x=[6, 768], edge_index=[2, 20], edge_type=[20], y=[1], num_nodes=6), Data(x=[10, 768], edge_index=[2, 24], edge_type=[24], y=[1], num_nodes=10), Data(x=[6, 768], edge_index=[2, 10], edge_type=[10], y=[1], num_nodes=6), Data(x=[6, 768], edge_index=[2, 20], edge_type=[20], y=[1], num_nodes=6), Data(x=[9, 768], edge_index=[2, 18], edge_type=[18], y=[1], num_nodes=9), Data(x=[4, 768], edge_index=[2, 8], edge_type=[8], y=[1], num_nodes=4), Data(x=[6, 768], edge_index=[2, 10], edge_type=[10], y=[1], num_nodes=6), Data(x=[4, 768], edge_index=[2, 8], edge_type=[8], y=[1], num_nodes=4), Data(x=[6, 768], edge_index=[2, 12], edge_type=[12], y=[1], num_nodes=6)]\n"
     ]
    }
   ],
   "source": [
    "import glob\n",
    "\n",
    "dataset =[]\n",
    "for label, folder in enumerate(folders):\n",
    "\n",
    "  files = glob.glob(folder)\n",
    "  for file in files:\n",
    "\n",
    "    nodes_dict, edge_indices_FD, edge_indices_CD, edge_indices, edge_type = get_nodes_edges(file, add_reverse_edges = True)\n",
    "    #print(nodes_dict, edge_indices_CD, edge_indices_FD, edge_type)\n",
    "\n",
    "    # Node feature matrix with shape [num_nodes, num_node_features]=(N, 768).\n",
    "    CodeEmbedding = get_node_embedding_from_codebert(nodes_dict)\n",
    "    #print(CodeEmbedding.shape)\n",
    "\n",
    "    # FIXING DATA FOTMATS AND SHAPE\n",
    "    x = torch.tensor(CodeEmbedding)\n",
    "    # print(x.shape)\n",
    "  \n",
    "    # data.y: Target to train against (may have arbitrary shape),\n",
    "    # graph-level targets of shape [1, *]\n",
    "    y = torch.tensor([label], dtype=torch.long)\n",
    "    #print(type(y))\n",
    "\n",
    "    # edge_index (LongTensor, optional) – Graph connectivity in COO format with shape [2, num_edges]\n",
    "    edge_index_CD = torch.tensor(edge_indices_CD, dtype=torch.long).t().contiguous()\n",
    "    edge_index_FD = torch.tensor(edge_indices_FD, dtype=torch.long).t().contiguous()\n",
    "    edge_index = torch.tensor(edge_indices, dtype=torch.long).t().contiguous()\n",
    "    edge_type = torch.tensor(edge_type, dtype=torch.long).t().contiguous()\n",
    "    #print(edge_index_CD, edge_index_FD, edge_index, edge_type)\n",
    "  \n",
    "    data = Data(edge_index=edge_index, edge_type=edge_type, x=x)\n",
    "    data.y = y\n",
    "    data.num_nodes = len(nodes_dict)\n",
    "    dataset.append(data)\n",
    "\n",
    "print(dataset)"
   ]
  },
  {
   "cell_type": "markdown",
   "metadata": {},
   "source": [
    "### Graph Statistics & Visualization"
   ]
  },
  {
   "cell_type": "code",
   "execution_count": 43,
   "metadata": {},
   "outputs": [
    {
     "name": "stdout",
     "output_type": "stream",
     "text": [
      "\n",
      "Data(x=[8, 768], edge_index=[2, 18], edge_type=[18], y=[1], num_nodes=8)\n",
      "=============================================================\n",
      "Number of nodes: 8\n",
      "Number of edges: 18\n",
      "Average node degree: 2.25\n",
      "Has isolated nodes: False\n",
      "Has self-loops: False\n",
      "Is undirected: True\n",
      "tensor([[0, 1, 0, 2, 1, 2, 0, 3, 1, 4, 0, 5, 1, 5, 0, 6, 1, 7],\n",
      "        [1, 0, 2, 0, 2, 1, 3, 0, 4, 1, 5, 0, 5, 1, 6, 0, 7, 1]])\n",
      "tensor([1, 1, 1, 1, 0, 0, 1, 1, 0, 0, 1, 1, 0, 0, 1, 1, 0, 0])\n"
     ]
    }
   ],
   "source": [
    "data = dataset[0]\n",
    "\n",
    "print()\n",
    "print(data)\n",
    "print('=============================================================')\n",
    "\n",
    "print(f'Number of nodes: {data.num_nodes}')\n",
    "print(f'Number of edges: {data.num_edges}')\n",
    "print(f'Average node degree: {data.num_edges / data.num_nodes:.2f}')\n",
    "print(f'Has isolated nodes: {data.has_isolated_nodes()}')\n",
    "print(f'Has self-loops: {data.has_self_loops()}')\n",
    "print(f'Is undirected: {data.is_undirected()}')\n",
    "print(data.edge_index)\n",
    "print(data.edge_type)"
   ]
  },
  {
   "cell_type": "code",
   "execution_count": 44,
   "metadata": {},
   "outputs": [
    {
     "data": {
      "image/png": "[encoded data removed]",
      "text/plain": [
       "<Figure size 720x720 with 1 Axes>"
      ]
     },
     "metadata": {},
     "output_type": "display_data"
    }
   ],
   "source": [
    "# Helper function for visualization.\n",
    "%matplotlib inline\n",
    "import networkx as nx\n",
    "import matplotlib.pyplot as plt\n",
    "from torch_geometric.utils import to_networkx\n",
    "\n",
    "def visualize_graph(data, color):\n",
    "    G = to_networkx(data, to_undirected=False)\n",
    "    edge_labels = dict([((edge[0], edge[1]), int(label))\n",
    "                    for edge, label in zip(G.edges(data=False), data.edge_type)])\n",
    "    plt.figure(figsize=(10,10))\n",
    "    plt.xticks([])\n",
    "    plt.yticks([])\n",
    "    nx.draw_networkx(G, pos=nx.spring_layout(G, seed=42), with_labels=True,\n",
    "                     node_color=color, cmap=\"Set2\")\n",
    "    nx.draw_networkx_edge_labels(G, pos=nx.spring_layout(G, seed=42), edge_labels=edge_labels, font_color='red')\n",
    "    plt.show()\n",
    "\n",
    "for G in dataset[:1]:\n",
    "    visualize_graph(G, color=\"blue\")"
   ]
  },
  {
   "cell_type": "markdown",
   "metadata": {},
   "source": [
    "### Create train and test splits"
   ]
  },
  {
   "cell_type": "code",
   "execution_count": 45,
   "metadata": {},
   "outputs": [
    {
     "name": "stdout",
     "output_type": "stream",
     "text": [
      "Number of training graphs: 15\n",
      "Number of test graphs: 5\n"
     ]
    }
   ],
   "source": [
    "import random\n",
    "\n",
    "shuffled_dataset = random.sample(dataset, len(dataset))\n",
    "\n",
    "train_dataset = shuffled_dataset[:15]\n",
    "test_dataset = shuffled_dataset[15:]\n",
    "\n",
    "print(f'Number of training graphs: {len(train_dataset)}')\n",
    "print(f'Number of test graphs: {len(test_dataset)}')"
   ]
  },
  {
   "cell_type": "markdown",
   "metadata": {},
   "source": [
    "### Create the dataloaders"
   ]
  },
  {
   "cell_type": "code",
   "execution_count": 46,
   "metadata": {},
   "outputs": [
    {
     "name": "stdout",
     "output_type": "stream",
     "text": [
      "Step 1:\n",
      "=======\n",
      "Number of graphs in the current batch: 5\n",
      "DataBatch(x=[33, 768], edge_index=[2, 76], edge_type=[76], y=[5], num_nodes=33, batch=[33], ptr=[6])\n",
      "\n",
      "Step 2:\n",
      "=======\n",
      "Number of graphs in the current batch: 5\n",
      "DataBatch(x=[27, 768], edge_index=[2, 52], edge_type=[52], y=[5], num_nodes=27, batch=[27], ptr=[6])\n",
      "\n",
      "Step 3:\n",
      "=======\n",
      "Number of graphs in the current batch: 5\n",
      "DataBatch(x=[32, 768], edge_index=[2, 74], edge_type=[74], y=[5], num_nodes=32, batch=[32], ptr=[6])\n",
      "\n"
     ]
    }
   ],
   "source": [
    "from torch_geometric.loader import DataLoader\n",
    "\n",
    "train_loader = DataLoader(train_dataset, batch_size=5, shuffle=True)\n",
    "test_loader = DataLoader(test_dataset, batch_size=5, shuffle=False)\n",
    "\n",
    "for step, data in enumerate(train_loader):\n",
    "    print(f'Step {step + 1}:')\n",
    "    print('=======')\n",
    "    print(f'Number of graphs in the current batch: {data.num_graphs}')\n",
    "    print(data)\n",
    "    print()"
   ]
  },
  {
   "cell_type": "markdown",
   "metadata": {},
   "source": [
    "## Model"
   ]
  },
  {
   "cell_type": "markdown",
   "metadata": {},
   "source": [
    "### Define the model"
   ]
  },
  {
   "cell_type": "code",
   "execution_count": 47,
   "metadata": {},
   "outputs": [
    {
     "name": "stdout",
     "output_type": "stream",
     "text": [
      "GCN(\n",
      "  (conv1): GCNConv(768, 64)\n",
      "  (conv2): GCNConv(64, 64)\n",
      "  (lin): Linear(in_features=64, out_features=4, bias=True)\n",
      ")\n"
     ]
    }
   ],
   "source": [
    "from torch.nn import Linear\n",
    "import torch.nn.functional as F\n",
    "from torch_geometric.nn import GCNConv\n",
    "from torch_geometric.nn import global_mean_pool\n",
    "\n",
    "class GCN(torch.nn.Module):\n",
    "    def __init__(self, hidden_channels, num_node_features = 768, num_classes = 4):\n",
    "        super(GCN, self).__init__()\n",
    "        torch.manual_seed(12345)\n",
    "        self.conv1 = GCNConv(num_node_features, hidden_channels)\n",
    "        self.conv2 = GCNConv(hidden_channels, hidden_channels)\n",
    "        self.lin = Linear(hidden_channels, num_classes)\n",
    "\n",
    "    def forward(self, x, edge_index, batch):\n",
    "        # 1. Obtain node embeddings \n",
    "        x = self.conv1(x, edge_index)\n",
    "        x = x.relu()\n",
    "        x = self.conv2(x, edge_index)\n",
    "\n",
    "        # 2. Readout layer\n",
    "        graph_embedding = global_mean_pool(x, batch)  # [batch_size, hidden_channels]\n",
    "\n",
    "        # 3. Apply a final classifier\n",
    "        x = F.dropout(graph_embedding, p=0.5, training=self.training)\n",
    "        x = self.lin(x)\n",
    "        return x, graph_embedding\n",
    "\n",
    "model = GCN(hidden_channels=64)\n",
    "print(model)"
   ]
  },
  {
   "cell_type": "markdown",
   "metadata": {},
   "source": [
    "### Visualizing the embeddings"
   ]
  },
  {
   "cell_type": "code",
   "execution_count": 48,
   "metadata": {},
   "outputs": [],
   "source": [
    "import matplotlib.pyplot as plt\n",
    "from sklearn.manifold import TSNE\n",
    "import umap\n",
    "\n",
    "def visualize_embeddings(h, color):\n",
    "    z = umap.UMAP(n_components=2).fit_transform(h.detach().cpu().numpy())\n",
    "\n",
    "    plt.figure(figsize=(10,10))\n",
    "    plt.xticks([])\n",
    "    plt.yticks([])\n",
    "\n",
    "    plt.scatter(z[:, 0], z[:, 1], s=70, c=color, cmap=\"Set2\")\n",
    "    plt.show()"
   ]
  },
  {
   "cell_type": "code",
   "execution_count": 49,
   "metadata": {},
   "outputs": [
    {
     "data": {
      "image/png": "[encoded data removed]",
      "text/plain": [
       "<Figure size 720x720 with 1 Axes>"
      ]
     },
     "metadata": {},
     "output_type": "display_data"
    }
   ],
   "source": [
    "model = GCN(hidden_channels=64)\n",
    "\n",
    "model.eval()\n",
    "dataloader = DataLoader(dataset, len(dataset), shuffle=True)\n",
    "for data in dataloader:\n",
    "    out, graph_embedding = model(data.x, data.edge_index, data.batch)\n",
    "    visualize_embeddings(graph_embedding, color=data.y)"
   ]
  },
  {
   "cell_type": "markdown",
   "metadata": {},
   "source": [
    "## Training & Testing"
   ]
  },
  {
   "cell_type": "code",
   "execution_count": 50,
   "metadata": {},
   "outputs": [
    {
     "name": "stdout",
     "output_type": "stream",
     "text": [
      "Loss:  7.4968801736831665\n",
      "Epoch: 001, Train Acc: 0.2667, Test Acc: 0.2000\n",
      "Loss:  4.550237059593201\n",
      "Epoch: 002, Train Acc: 0.2667, Test Acc: 0.2000\n",
      "Loss:  4.300608396530151\n",
      "Epoch: 003, Train Acc: 0.2667, Test Acc: 0.2000\n",
      "Loss:  4.113387107849121\n",
      "Epoch: 004, Train Acc: 0.2667, Test Acc: 0.2000\n",
      "Loss:  4.136639356613159\n",
      "Epoch: 005, Train Acc: 0.3333, Test Acc: 0.2000\n",
      "Loss:  4.1638641357421875\n",
      "Epoch: 006, Train Acc: 0.3333, Test Acc: 0.2000\n",
      "Loss:  4.155031442642212\n",
      "Epoch: 007, Train Acc: 0.2667, Test Acc: 0.2000\n",
      "Loss:  4.141993999481201\n",
      "Epoch: 008, Train Acc: 0.4000, Test Acc: 0.2000\n",
      "Loss:  4.044798851013184\n",
      "Epoch: 009, Train Acc: 0.3333, Test Acc: 0.2000\n",
      "Loss:  4.109871745109558\n",
      "Epoch: 010, Train Acc: 0.3333, Test Acc: 0.2000\n",
      "Loss:  4.010411620140076\n",
      "Epoch: 011, Train Acc: 0.3333, Test Acc: 0.2000\n",
      "Loss:  3.9722745418548584\n",
      "Epoch: 012, Train Acc: 0.3333, Test Acc: 0.2000\n",
      "Loss:  4.083296895027161\n",
      "Epoch: 013, Train Acc: 0.3333, Test Acc: 0.2000\n",
      "Loss:  4.001288890838623\n",
      "Epoch: 014, Train Acc: 0.5333, Test Acc: 0.2000\n",
      "Loss:  3.976550340652466\n",
      "Epoch: 015, Train Acc: 0.6000, Test Acc: 0.4000\n",
      "Loss:  3.7269186973571777\n",
      "Epoch: 016, Train Acc: 0.2667, Test Acc: 0.2000\n",
      "Loss:  4.327507138252258\n",
      "Epoch: 017, Train Acc: 0.5333, Test Acc: 0.4000\n",
      "Loss:  4.181987762451172\n",
      "Epoch: 018, Train Acc: 0.2667, Test Acc: 0.2000\n",
      "Loss:  4.208991050720215\n",
      "Epoch: 019, Train Acc: 0.2667, Test Acc: 0.2000\n"
     ]
    }
   ],
   "source": [
    "model = GCN(hidden_channels=64)\n",
    "optimizer = torch.optim.Adam(model.parameters(), lr=0.01)\n",
    "criterion = torch.nn.CrossEntropyLoss()\n",
    "\n",
    "def train():\n",
    "    model.train()\n",
    "    total_loss = 0\n",
    "    for data in train_loader:  # Iterate in batches over the training dataset.\n",
    "         out, _ = model(data.x, data.edge_index, data.batch)  # Perform a single forward pass.\n",
    "         #print(\"Out = {} and Label = {}\".format(out, data.y))\n",
    "         loss = criterion(out, data.y)  # Compute the loss.\n",
    "         loss.backward()  # Derive gradients.\n",
    "         optimizer.step()  # Update parameters based on gradients.\n",
    "         optimizer.zero_grad()  # Clear gradients.\n",
    "         total_loss += float(loss)\n",
    "    print(\"Loss: \", total_loss)\n",
    "\n",
    "def test(loader):\n",
    "     model.eval()\n",
    "\n",
    "     correct = 0\n",
    "     for data in loader:  # Iterate in batches over the training/test dataset.\n",
    "         out, _ = model(data.x, data.edge_index, data.batch)  \n",
    "         pred = out.argmax(dim=1)  # Use the class with highest probability.\n",
    "         correct += int((pred == data.y).sum())  # Check against ground-truth labels.\n",
    "     return correct / len(loader.dataset)  # Derive ratio of correct predictions.\n",
    "\n",
    "\n",
    "for epoch in range(1, 20):\n",
    "    train()\n",
    "    train_acc = test(train_loader)\n",
    "    test_acc = test(test_loader)\n",
    "    print(f'Epoch: {epoch:03d}, Train Acc: {train_acc:.4f}, Test Acc: {test_acc:.4f}')"
   ]
  },
  {
   "cell_type": "code",
   "execution_count": 51,
   "metadata": {},
   "outputs": [
    {
     "data": {
      "image/png": "[encoded data removed]",
      "text/plain": [
       "<Figure size 720x720 with 1 Axes>"
      ]
     },
     "metadata": {},
     "output_type": "display_data"
    }
   ],
   "source": [
    "for data in dataloader:\n",
    "    out, graph_embedding = model(data.x, data.edge_index, data.batch)\n",
    "    visualize_embeddings(graph_embedding, color=data.y)"
   ]
  }
 ],
 "metadata": {
  "kernelspec": {
   "display_name": "Python 3.6.9 64-bit",
   "language": "python",
   "name": "python3"
  },
  "language_info": {
   "codemirror_mode": {
    "name": "ipython",
    "version": 3
   },
   "file_extension": ".py",
   "mimetype": "text/x-python",
   "name": "python",
   "nbconvert_exporter": "python",
   "pygments_lexer": "ipython3",
   "version": "3.6.9"
  },
  "orig_nbformat": 4,
  "vscode": {
   "interpreter": {
    "hash": "31f2aee4e71d21fbe5cf8b01ff0e069b9275f58929596ceb00d14d90e3e16cd6"
   }
  }
 },
 "nbformat": 4,
 "nbformat_minor": 2
}
