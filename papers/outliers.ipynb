{
  "nbformat": 4,
  "nbformat_minor": 0,
  "metadata": {
    "colab": {
      "name": "outliers.ipynb",
      "provenance": []
    },
    "kernelspec": {
      "name": "python3",
      "display_name": "Python 3"
    },
    "language_info": {
      "name": "python"
    }
  },
  "cells": [
    {
      "cell_type": "code",
      "source": [
        "!pip install cvae"
      ],
      "metadata": {
        "id": "3IJv1X7kLDFg"
      },
      "execution_count": null,
      "outputs": []
    },
    {
      "cell_type": "code",
      "metadata": {
        "id": "RRjyPDtARIKO"
      },
      "source": [
        "import matplotlib.pyplot as plt\n",
        "import matplotlib.patheffects as pe\n",
        "import seaborn as sns\n",
        "from sklearn import datasets, metrics\n",
        "from sklearn.model_selection import train_test_split\n",
        "from sklearn.manifold import TSNE\n",
        "import numpy as np\n",
        "import pandas as pd"
      ],
      "execution_count": null,
      "outputs": []
    },
    {
      "cell_type": "code",
      "metadata": {
        "id": "NNj9KgXYoLYl"
      },
      "source": [
        "def fashion_scatter(x, colors):\n",
        "    num_classes = len(np.unique(colors))\n",
        "    palette = np.array(sns.color_palette(\"hls\", num_classes))\n",
        "\n",
        "    f = plt.figure(figsize=(8, 10))\n",
        "    ax = plt.subplot(aspect='equal')\n",
        "    sc = ax.scatter(x[:,0], x[:,1], lw=0, s=40, c=palette[colors.astype(np.int)])\n",
        "   \n",
        "    txts = []\n",
        "    for i in range(num_classes):\n",
        "        xtext, ytext = np.median(x[colors == i, :], axis=0)\n",
        "        txt = ax.text(xtext, ytext, str(i), fontsize=24)\n",
        "        txt.set_path_effects([\n",
        "            pe.Stroke(linewidth=5, foreground=\"w\"),\n",
        "            pe.Normal()])\n",
        "        txts.append(txt)\n",
        "\n",
        "    return f, ax, sc"
      ],
      "execution_count": null,
      "outputs": []
    },
    {
      "cell_type": "code",
      "source": [
        "# Import CVAE \n",
        "from cvae import cvae# Initialise the tool, assuming we already have an array X containing the data "
      ],
      "metadata": {
        "id": "oLYd15a5LDH0"
      },
      "execution_count": null,
      "outputs": []
    },
    {
      "cell_type": "code",
      "source": [
        "df=pd.read_csv(\"/content/repsample.txt\", sep=\" \",header=None)\n",
        "l=pd.read_csv(\"/content/mnamerep.txt\", sep=\" \",header=None)\n",
        "l=l[0]\n",
        "data=df.to_numpy()\n",
        "target=l.to_numpy()\n",
        "ar=np.linspace(0,target.shape[0]-1,target.shape[0])\n",
        "\n",
        "embedder = cvae.CompressionVAE(data)# Train the model \n",
        "embedder.train()\n",
        "\n",
        "z = embedder.embed(data)"
      ],
      "metadata": {
        "id": "-9eLkNFsBMzu",
        "colab": {
          "base_uri": "https://localhost:8080/"
        },
        "outputId": "fc8c11ce-36f7-4b28-fbdb-ee3b059a1350"
      },
      "execution_count": null,
      "outputs": [
        {
          "output_type": "stream",
          "name": "stdout",
          "text": [
            "Total amount of data:  18\n",
            "Input feature dimension:  384\n",
            "Calculating normalisation factors.\n",
            "Normalisation factors calculated.\n",
            "Total amount of data:  2\n",
            "Creating model.\n",
            "Model created.\n",
            "Setting up loss.\n",
            "Loss set up.\n",
            "Setting up session.\n",
            "Session set up.\n",
            "Trying to restore saved checkpoints from /content/temp ... No checkpoint found.\n",
            "No model found to restore. Initialising new model.\n",
            "Starting queues.\n",
            "Reader threads started.\n",
            "step 0; epoch 0.00 - loss = 194.378, test_loss = 230.383, lr = 0.00100, (0.016 sec/step)\n",
            "Storing checkpoint to /content/temp ... Done.\n",
            "step 50; epoch 177.78 - loss = 175.751, test_loss = 229.649, lr = 0.00100, (0.001 sec/step)\n",
            "step 100; epoch 355.56 - loss = 144.986, test_loss = 228.386, lr = 0.00100, (0.001 sec/step)\n",
            "step 150; epoch 533.33 - loss = 129.381, test_loss = 230.290, lr = 0.00100, (0.001 sec/step)\n",
            "step 200; epoch 711.11 - loss = 116.003, test_loss = 230.773, lr = 0.00100, (0.001 sec/step)\n",
            "step 250; epoch 888.89 - loss = 100.183, test_loss = 237.217, lr = 0.00100, (0.001 sec/step)\n",
            "step 300; epoch 1066.67 - loss = 87.598, test_loss = 240.271, lr = 0.00100, (0.001 sec/step)\n",
            "No improvement on validation data for 5 test steps. Decreasing learning rate by factor 5\n",
            "step 350; epoch 1244.44 - loss = 87.343, test_loss = 234.787, lr = 0.00020, (0.001 sec/step)\n",
            "No improvement on validation data for 5 test steps. Decreasing learning rate by factor 5\n",
            "step 400; epoch 1422.22 - loss = 87.786, test_loss = 237.060, lr = 0.00004, (0.001 sec/step)\n",
            "No improvement on validation data for 5 test steps. Decreasing learning rate by factor 5\n",
            "Reached learning rate threshold of 1e-05. Stopping.\n",
            "Storing checkpoint to /content/temp ... Done.\n"
          ]
        }
      ]
    },
    {
      "cell_type": "code",
      "source": [
        "fashion_scatter(z, ar)\n",
        "#repsamples"
      ],
      "metadata": {
        "colab": {
          "base_uri": "https://localhost:8080/",
          "height": 617
        },
        "id": "8dfQTcxuLDTO",
        "outputId": "22820805-e6c9-4847-9629-2b55b966546e"
      },
      "execution_count": null,
      "outputs": [
        {
          "output_type": "execute_result",
          "data": {
            "text/plain": [
              "(<Figure size 576x720 with 1 Axes>,\n",
              " <matplotlib.axes._subplots.AxesSubplot at 0x7f1c536a7810>,\n",
              " <matplotlib.collections.PathCollection at 0x7f1c5146eb90>)"
            ]
          },
          "metadata": {},
          "execution_count": 44
        },
        {
          "output_type": "display_data",
          "data": {
            "image/png": "[encoded data removed]",
            "text/plain": [
              "<Figure size 576x720 with 1 Axes>"
            ]
          },
          "metadata": {
            "needs_background": "light"
          }
        }
      ]
    },
    {
      "cell_type": "code",
      "source": [
        "l "
      ],
      "metadata": {
        "colab": {
          "base_uri": "https://localhost:8080/"
        },
        "id": "Grw6nxP-LDWc",
        "outputId": "7bbafac7-a646-4402-f86b-27d0544cd5a4"
      },
      "execution_count": null,
      "outputs": [
        {
          "output_type": "execute_result",
          "data": {
            "text/plain": [
              "0                                   get|connection\n",
              "1     test|disallow|drop|of|column|on|parent|table\n",
              "2         test|array|to|string|function|with|nulls\n",
              "3              test|ternary|subtraction|expression\n",
              "4                                create|connection\n",
              "5                                       drop|table\n",
              "6                                  open|connection\n",
              "7                 test|in|list|parameter|meta|data\n",
              "8                                init|table|values\n",
              "9                                       insert|row\n",
              "10                  test|vanity|driver|args|in|url\n",
              "11                               create|connection\n",
              "12                      help|test|to|number|filter\n",
              "13                         test|having|aggregation\n",
              "14                       test|scan|caching|default\n",
              "15                                     open|db|con\n",
              "16                  test|type|mismatch|bound|limit\n",
              "17                                  get|connection\n",
              "18                                  get|connection\n",
              "19                          init|date|table|values\n",
              "Name: 0, dtype: object"
            ]
          },
          "metadata": {},
          "execution_count": 41
        }
      ]
    },
    {
      "cell_type": "code",
      "source": [
        ""
      ],
      "metadata": {
        "id": "lsL0dsuqZCFh"
      },
      "execution_count": null,
      "outputs": []
    },
    {
      "cell_type": "code",
      "source": [
        "df=pd.read_csv(\"/content/sample18.csv\", sep=\" \",header=None)\n",
        "l=pd.read_csv(\"/content/mname18.txt\", sep=\" \",header=None)\n",
        "l=l[0]\n",
        "data=df.to_numpy()\n",
        "target=l.to_numpy()\n",
        "ar=np.linspace(0,target.shape[0]-1,target.shape[0])\n",
        "\n",
        "embedder = cvae.CompressionVAE(data)# Train the model \n",
        "embedder.train()\n",
        "\n",
        "z = embedder.embed(data)"
      ],
      "metadata": {
        "id": "mqPHrh5SZCIB"
      },
      "execution_count": null,
      "outputs": []
    },
    {
      "cell_type": "code",
      "source": [
        "fashion_scatter(z, ar)\n",
        "#sample18"
      ],
      "metadata": {
        "colab": {
          "base_uri": "https://localhost:8080/",
          "height": 580
        },
        "id": "R8xNejNcZCK3",
        "outputId": "576b8b95-03e3-4c32-b70e-3350b820607e"
      },
      "execution_count": null,
      "outputs": [
        {
          "output_type": "execute_result",
          "data": {
            "text/plain": [
              "(<Figure size 576x720 with 1 Axes>,\n",
              " <matplotlib.axes._subplots.AxesSubplot at 0x7f1c513e70d0>,\n",
              " <matplotlib.collections.PathCollection at 0x7f1c4f1bd6d0>)"
            ]
          },
          "metadata": {},
          "execution_count": 46
        },
        {
          "output_type": "display_data",
          "data": {
            "image/png": "[encoded data removed]",
            "text/plain": [
              "<Figure size 576x720 with 1 Axes>"
            ]
          },
          "metadata": {
            "needs_background": "light"
          }
        }
      ]
    },
    {
      "cell_type": "code",
      "source": [
        "l"
      ],
      "metadata": {
        "colab": {
          "base_uri": "https://localhost:8080/"
        },
        "id": "qph5mkRQZCNf",
        "outputId": "0e74b86f-89de-4f6b-f3ea-ce90379a10bc"
      },
      "execution_count": null,
      "outputs": [
        {
          "output_type": "execute_result",
          "data": {
            "text/plain": [
              "0                     get|connection\n",
              "1                     get|connection\n",
              "2           get|timed|out|connection\n",
              "3                  create|connection\n",
              "4                     get|connection\n",
              "5                            connect\n",
              "6        changedifelseget|connection\n",
              "7            wrongnameget|connection\n",
              "8          wrongparamsget|connection\n",
              "9      wrongconditionsget|connection\n",
              "10         wrongparamsget|connection\n",
              "11    wrongundeclarvarget|connection\n",
              "12         wrongreturnget|connection\n",
              "Name: 0, dtype: object"
            ]
          },
          "metadata": {},
          "execution_count": 39
        }
      ]
    },
    {
      "cell_type": "code",
      "source": [
        "df=pd.read_csv(\"/content/sample19.csv\", sep=\" \",header=None)\n",
        "l=pd.read_csv(\"/content/mname19.txt\", sep=\" \",header=None)\n",
        "l=l[0]\n",
        "data=df.to_numpy()\n",
        "target=l.to_numpy()\n",
        "ar=np.linspace(0,target.shape[0]-1,target.shape[0])\n",
        "\n",
        "embedder = cvae.CompressionVAE(data)# Train the model \n",
        "embedder.train()\n",
        "\n",
        "z = embedder.embed(data)"
      ],
      "metadata": {
        "id": "uPsi2VEUZCQE"
      },
      "execution_count": null,
      "outputs": []
    },
    {
      "cell_type": "code",
      "source": [
        "fashion_scatter(z, ar)"
      ],
      "metadata": {
        "colab": {
          "base_uri": "https://localhost:8080/",
          "height": 644
        },
        "id": "o_600XJhZCSl",
        "outputId": "3ded2f75-dfa7-4ea0-9a71-edad278c0fe1"
      },
      "execution_count": null,
      "outputs": [
        {
          "output_type": "execute_result",
          "data": {
            "text/plain": [
              "(<Figure size 576x720 with 1 Axes>,\n",
              " <matplotlib.axes._subplots.AxesSubplot at 0x7f1c5bcdd210>,\n",
              " <matplotlib.collections.PathCollection at 0x7f1c59e91750>)"
            ]
          },
          "metadata": {},
          "execution_count": 32
        },
        {
          "output_type": "display_data",
          "data": {
            "image/png": "[encoded data removed]",
            "text/plain": [
              "<Figure size 576x720 with 1 Axes>"
            ]
          },
          "metadata": {
            "needs_background": "light"
          }
        }
      ]
    },
    {
      "cell_type": "code",
      "source": [
        "l"
      ],
      "metadata": {
        "colab": {
          "base_uri": "https://localhost:8080/"
        },
        "id": "RY3EJ0OQZCVS",
        "outputId": "dd2dfa67-3097-473e-b7b1-daff3c0629fd"
      },
      "execution_count": null,
      "outputs": [
        {
          "output_type": "execute_result",
          "data": {
            "text/plain": [
              "0                  init|date|table|values\n",
              "1                       init|table|values\n",
              "2                               load|data\n",
              "3                    do|before|test|setup\n",
              "4                                      db\n",
              "5          wrongseqinit|date|table|values\n",
              "6       wrongparamsinit|date|table|values\n",
              "7    wrongnilparamsinit|date|table|values\n",
              "8     wrongnoassertinit|date|table|values\n",
              "Name: 0, dtype: object"
            ]
          },
          "metadata": {},
          "execution_count": 33
        }
      ]
    },
    {
      "cell_type": "code",
      "source": [
        "v13=pd.read_csv(\"/content/vectors13.txt\", sep=\" \",header=None)\n",
        "l13=pd.read_csv(\"/content/labels13W.csv\", sep=\" \",header=None)\n",
        "l13=l13[0]\n",
        "data13=v13.to_numpy()\n",
        "target13=l13.to_numpy()\n",
        "ar13=np.linspace(0,target13.shape[0]-1,target13.shape[0])\n",
        "\n",
        "embedder13 = cvae.CompressionVAE(data13)# Train the model \n",
        "embedder13.train()\n",
        "\n",
        "z13 = embedder13.embed(data13)"
      ],
      "metadata": {
        "id": "RnilAuKvZHuW"
      },
      "execution_count": null,
      "outputs": []
    },
    {
      "cell_type": "code",
      "source": [
        "fashion_scatter(z13, ar13)"
      ],
      "metadata": {
        "colab": {
          "base_uri": "https://localhost:8080/",
          "height": 490
        },
        "id": "A56jUzVIZHxI",
        "outputId": "aceed4d8-6fb0-463a-9b13-4dacd926e8ff"
      },
      "execution_count": null,
      "outputs": [
        {
          "output_type": "execute_result",
          "data": {
            "text/plain": [
              "(<Figure size 576x720 with 1 Axes>,\n",
              " <matplotlib.axes._subplots.AxesSubplot at 0x7f1c6055e3d0>,\n",
              " <matplotlib.collections.PathCollection at 0x7f1c60505190>)"
            ]
          },
          "metadata": {},
          "execution_count": 27
        },
        {
          "output_type": "display_data",
          "data": {
            "image/png": "[encoded data removed]",
            "text/plain": [
              "<Figure size 576x720 with 1 Axes>"
            ]
          },
          "metadata": {
            "needs_background": "light"
          }
        }
      ]
    },
    {
      "cell_type": "code",
      "source": [
        "l13"
      ],
      "metadata": {
        "colab": {
          "base_uri": "https://localhost:8080/"
        },
        "id": "A573ko0jZHzi",
        "outputId": "c35c0d5c-9acd-4447-e5c4-387573b6f565"
      },
      "execution_count": null,
      "outputs": [
        {
          "output_type": "execute_result",
          "data": {
            "text/plain": [
              "0                       test|having|aggregation\n",
              "1         test|get|splits|with|skip|scan|filter\n",
              "2                               test|limit|scan\n",
              "3                                get|connection\n",
              "4        test|cf|to|disambiguate|in|select|only\n",
              "5                    test|constant|false|having\n",
              "6                   test|partially|evaluable|or\n",
              "7                  test|partially|evaluable|and\n",
              "8           test|table|alias|same|as|table|name\n",
              "9                 test|nonfirst|column|group|by\n",
              "10          test|having|aggregation|wrong|param\n",
              "11            test|having|aggregation|wrong|seq\n",
              "12    test|nonfirst|column|group|by|wrong|order\n",
              "Name: 0, dtype: object"
            ]
          },
          "metadata": {},
          "execution_count": 25
        }
      ]
    },
    {
      "cell_type": "code",
      "source": [
        "df=pd.read_csv(\"/content/vectors17.txt\", sep=\" \",header=None)\n",
        "l=pd.read_csv(\"/content/labels17W.csv\", sep=\" \",header=None)\n",
        "l=l[0]\n",
        "data=df.to_numpy()\n",
        "target=l.to_numpy()\n",
        "ar=np.linspace(0,target.shape[0]-1,target.shape[0])\n",
        "\n",
        "embedder = cvae.CompressionVAE(data)# Train the model \n",
        "embedder.train()\n",
        "\n",
        "z = embedder.embed(data)"
      ],
      "metadata": {
        "id": "voOE1BvlZH2T"
      },
      "execution_count": null,
      "outputs": []
    },
    {
      "cell_type": "code",
      "source": [
        "#17\n",
        "fashion_scatter(z, ar)"
      ],
      "metadata": {
        "colab": {
          "base_uri": "https://localhost:8080/",
          "height": 447
        },
        "id": "twZcCURsZH44",
        "outputId": "ae5e37b5-ac45-462a-849e-867016008ab8"
      },
      "execution_count": null,
      "outputs": [
        {
          "output_type": "execute_result",
          "data": {
            "text/plain": [
              "(<Figure size 576x576 with 1 Axes>,\n",
              " <matplotlib.axes._subplots.AxesSubplot at 0x7f1c66cdd210>,\n",
              " <matplotlib.collections.PathCollection at 0x7f1c628ec890>)"
            ]
          },
          "metadata": {},
          "execution_count": 18
        },
        {
          "output_type": "display_data",
          "data": {
            "image/png": "[encoded data removed]",
            "text/plain": [
              "<Figure size 576x576 with 1 Axes>"
            ]
          },
          "metadata": {
            "needs_background": "light"
          }
        }
      ]
    },
    {
      "cell_type": "code",
      "source": [
        "l"
      ],
      "metadata": {
        "colab": {
          "base_uri": "https://localhost:8080/"
        },
        "id": "sgUrTfvxZH7l",
        "outputId": "5a7c2299-95a1-47cc-9a9b-0f8a1b12439f"
      },
      "execution_count": null,
      "outputs": [
        {
          "output_type": "execute_result",
          "data": {
            "text/plain": [
              "0                get|connection\n",
              "1             create|connection\n",
              "2                get|connection\n",
              "3                get|connection\n",
              "4          connect|with|version\n",
              "5                get|connection\n",
              "6                get|connection\n",
              "7    get|connection|wrong|param\n",
              "8      get|connection|wrong|seq\n",
              "Name: 0, dtype: object"
            ]
          },
          "metadata": {},
          "execution_count": 20
        }
      ]
    },
    {
      "cell_type": "code",
      "source": [
        ""
      ],
      "metadata": {
        "id": "Pu3-qxdxZKWf"
      },
      "execution_count": null,
      "outputs": []
    },
    {
      "cell_type": "code",
      "source": [
        "df=pd.read_csv(\"/content/vectorsall.txt\", sep=\" \",header=None)\n",
        "l=pd.read_csv(\"/content/dataall.csv\", sep=\" \",header=None)\n",
        "l=l[0]\n",
        "data=df.to_numpy()\n",
        "target=l.to_numpy()\n",
        "ar=np.linspace(0,target.shape[0]-1,target.shape[0])\n",
        "\n",
        "embedder = cvae.CompressionVAE(data)# Train the model \n",
        "embedder.train()\n",
        "\n",
        "z = embedder.embed(data)"
      ],
      "metadata": {
        "id": "h-IfF7LSZKYx"
      },
      "execution_count": null,
      "outputs": []
    },
    {
      "cell_type": "code",
      "source": [
        "fashion_scatter(z, ar)"
      ],
      "metadata": {
        "colab": {
          "base_uri": "https://localhost:8080/",
          "height": 457
        },
        "id": "YeJY90BsZKbo",
        "outputId": "66056d6f-3b20-4392-9bf2-84c42cc3e93a"
      },
      "execution_count": null,
      "outputs": [
        {
          "output_type": "execute_result",
          "data": {
            "text/plain": [
              "(<Figure size 576x720 with 1 Axes>,\n",
              " <matplotlib.axes._subplots.AxesSubplot at 0x7f1c4ce65b90>,\n",
              " <matplotlib.collections.PathCollection at 0x7f1c4cdf3a50>)"
            ]
          },
          "metadata": {},
          "execution_count": 49
        },
        {
          "output_type": "display_data",
          "data": {
            "image/png": "[encoded data removed]",
            "text/plain": [
              "<Figure size 576x720 with 1 Axes>"
            ]
          },
          "metadata": {
            "needs_background": "light"
          }
        }
      ]
    },
    {
      "cell_type": "code",
      "source": [
        "color"
      ],
      "metadata": {
        "id": "k2wj8V51s1Zi"
      },
      "execution_count": null,
      "outputs": []
    },
    {
      "cell_type": "code",
      "source": [
        "z.shape"
      ],
      "metadata": {
        "colab": {
          "base_uri": "https://localhost:8080/"
        },
        "id": "8aZXGL26s1cL",
        "outputId": "643e83d8-b3f2-4121-aaf9-e80917701405"
      },
      "execution_count": null,
      "outputs": [
        {
          "output_type": "execute_result",
          "data": {
            "text/plain": [
              "(44, 2)"
            ]
          },
          "metadata": {},
          "execution_count": 56
        }
      ]
    },
    {
      "cell_type": "code",
      "source": [
        "len(color)"
      ],
      "metadata": {
        "colab": {
          "base_uri": "https://localhost:8080/"
        },
        "id": "UfuObNMJs1e9",
        "outputId": "16888201-ff41-49ed-c8d8-8660adc80ef8"
      },
      "execution_count": null,
      "outputs": [
        {
          "output_type": "execute_result",
          "data": {
            "text/plain": [
              "44"
            ]
          },
          "metadata": {},
          "execution_count": 59
        }
      ]
    },
    {
      "cell_type": "code",
      "source": [
        "plt.scatter(z[:, 0], z[:, 1], c=color)"
      ],
      "metadata": {
        "colab": {
          "base_uri": "https://localhost:8080/",
          "height": 282
        },
        "id": "tN0fGQPfs1kI",
        "outputId": "24ffa9f2-3e28-4450-a758-d186910cad08"
      },
      "execution_count": null,
      "outputs": [
        {
          "output_type": "execute_result",
          "data": {
            "text/plain": [
              "<matplotlib.collections.PathCollection at 0x7f1c4c8ef7d0>"
            ]
          },
          "metadata": {},
          "execution_count": 58
        },
        {
          "output_type": "display_data",
          "data": {
            "image/png": "[encoded data removed]",
            "text/plain": [
              "<Figure size 432x288 with 1 Axes>"
            ]
          },
          "metadata": {
            "needs_background": "light"
          }
        }
      ]
    },
    {
      "cell_type": "code",
      "source": [
        "l"
      ],
      "metadata": {
        "id": "1xc-m2EMwdxi"
      },
      "execution_count": null,
      "outputs": []
    },
    {
      "cell_type": "code",
      "source": [
        "plt.scatter(df.x, df.y, c=df.c)"
      ],
      "metadata": {
        "colab": {
          "base_uri": "https://localhost:8080/",
          "height": 282
        },
        "id": "SZuvBpVNy2I9",
        "outputId": "8860e9da-e3cf-4d5b-f2a5-489996d976ce"
      },
      "execution_count": null,
      "outputs": [
        {
          "output_type": "execute_result",
          "data": {
            "text/plain": [
              "<matplotlib.collections.PathCollection at 0x7f1c4c54e7d0>"
            ]
          },
          "metadata": {},
          "execution_count": 73
        },
        {
          "output_type": "display_data",
          "data": {
            "image/png": "[encoded data removed]",
            "text/plain": [
              "<Figure size 432x288 with 1 Axes>"
            ]
          },
          "metadata": {
            "needs_background": "light"
          }
        }
      ]
    },
    {
      "cell_type": "code",
      "source": [
        "c = pd.DataFrame(color)"
      ],
      "metadata": {
        "id": "3gb4eH6Cwl66"
      },
      "execution_count": null,
      "outputs": []
    },
    {
      "cell_type": "code",
      "source": [
        "z1=pd.DataFrame(z)"
      ],
      "metadata": {
        "id": "KsZDYyicxB7M"
      },
      "execution_count": null,
      "outputs": []
    },
    {
      "cell_type": "code",
      "source": [
        "df=pd.concat([z1,l,c],axis=1)"
      ],
      "metadata": {
        "id": "cG-XSo20xRkS"
      },
      "execution_count": null,
      "outputs": []
    },
    {
      "cell_type": "code",
      "source": [
        "df.columns=['x','y','l','c']"
      ],
      "metadata": {
        "id": "HoT3ORVfxaTg"
      },
      "execution_count": null,
      "outputs": []
    },
    {
      "cell_type": "code",
      "source": [
        "df=df[~df.l.str.contains(\"wrong\")]"
      ],
      "metadata": {
        "id": "7hk0WD8ixdwp"
      },
      "execution_count": null,
      "outputs": []
    },
    {
      "cell_type": "code",
      "source": [
        "df"
      ],
      "metadata": {
        "id": "jzL6KclyylBa"
      },
      "execution_count": null,
      "outputs": []
    }
  ]
}